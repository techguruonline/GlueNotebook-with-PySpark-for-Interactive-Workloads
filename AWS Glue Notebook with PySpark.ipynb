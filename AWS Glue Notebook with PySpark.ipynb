{
	"metadata": {
		"kernelspec": {
			"name": "glue_pyspark",
			"display_name": "Glue PySpark",
			"language": "python"
		},
		"language_info": {
			"name": "Python_Glue_Session",
			"mimetype": "text/x-python",
			"codemirror_mode": {
				"name": "python",
				"version": 3
			},
			"pygments_lexer": "python3",
			"file_extension": ".py"
		}
	},
	"nbformat_minor": 4,
	"nbformat": 4,
	"cells": [
		{
			"cell_type": "markdown",
			"source": "\n# Glue Studio Notebook\nYou are now running a **Glue Studio** notebook; before you can start using your notebook you *must* start an interactive session.\n\n## Available Magics\n|          Magic              |   Type       |                                                                        Description                                                                        |\n|-----------------------------|--------------|-----------------------------------------------------------------------------------------------------------------------------------------------------------|\n| %%configure                 |  Dictionary  |  A json-formatted dictionary consisting of all configuration parameters for a session. Each parameter can be specified here or through individual magics. |\n| %profile                    |  String      |  Specify a profile in your aws configuration to use as the credentials provider.                                                                          |\n| %iam_role                   |  String      |  Specify an IAM role to execute your session with.                                                                                                        |\n| %region                     |  String      |  Specify the AWS region in which to initialize a session.                                                                                                 |\n| %session_id                 |  String      |  Returns the session ID for the running session.                                                                                                          |\n| %connections                |  List        |  Specify a comma separated list of connections to use in the session.                                                                                     |\n| %additional_python_modules  |  List        |  Comma separated list of pip packages, s3 paths or private pip arguments.                                                                                 |\n| %extra_py_files             |  List        |  Comma separated list of additional Python files from S3.                                                                                                 |\n| %extra_jars                 |  List        |  Comma separated list of additional Jars to include in the cluster.                                                                                       |\n| %number_of_workers          |  Integer     |  The number of workers of a defined worker_type that are allocated when a job runs. worker_type must be set too.                                          |\n| %glue_version               |  String      |  The version of Glue to be used by this session. Currently, the only valid options are 2.0 and 3.0 (eg: %glue_version 2.0).                               |\n| %security_config            |  String      |  Define a security configuration to be used with this session.                                                                                            |\n| %sql                        |  String      |  Run SQL code. All lines after the initial %%sql magic will be passed as part of the SQL code.                                                            |\n| %streaming                  |  String      |  Changes the session type to Glue Streaming.                                                                                                              |\n| %etl                        |  String      |  Changes the session type to Glue ETL.                                                                                                                    |\n| %status                     |              |  Returns the status of the current Glue session including its duration, configuration and executing user / role.                                          |\n| %stop_session               |              |  Stops the current session.                                                                                                                               |\n| %list_sessions              |              |  Lists all currently running sessions by name and ID.                                                                                                     |\n| %worker_type                |  String      |  Standard, G.1X, *or* G.2X. number_of_workers must be set too. Default is G.1X.                                                                           |\n| %spark_conf                 |  String      |  Specify custom spark configurations for your session. E.g. %spark_conf spark.serializer=org.apache.spark.serializer.KryoSerializer.                      |",
			"metadata": {
				"editable": false,
				"deletable": false,
				"trusted": true
			}
		},
		{
			"cell_type": "markdown",
			"source": "## Introduction\n",
			"metadata": {}
		},
		{
			"cell_type": "code",
			"source": "#Import libraries, create Spark and Glue context, initiate spark session\n\nimport sys\nfrom awsglue.transforms import *\nfrom awsglue.utils import getResolvedOptions\nfrom pyspark.context import SparkContext\nfrom awsglue.context import GlueContext\nfrom awsglue.job import Job\n\nsc = SparkContext.getOrCreate()\nglueContext = GlueContext(sc)\nspark = glueContext.spark_session\njob = Job(glueContext)",
			"metadata": {
				"editable": true,
				"trusted": true
			},
			"execution_count": 1,
			"outputs": [
				{
					"name": "stdout",
					"text": "Welcome to the Glue Interactive Sessions Kernel\nFor more information on available magic commands, please type %help in any new cell.\n\nPlease view our Getting Started page to access the most up-to-date information on the Interactive Sessions kernel: https://docs.aws.amazon.com/glue/latest/dg/interactive-sessions.html\nInstalled kernel version: 0.37.0 \nAuthenticating with environment variables and user-defined glue_role_arn: arn:aws:iam::484830312924:role/Glue-admin-role-for-RS\nTrying to create a Glue session for the kernel.\nWorker Type: G.1X\nNumber of Workers: 5\nSession ID: e794d591-e4e7-407f-915f-241a82702176\nJob Type: glueetl\nApplying the following default arguments:\n--glue_kernel_version 0.37.0\n--enable-glue-datacatalog true\nWaiting for session e794d591-e4e7-407f-915f-241a82702176 to get into ready status...\nSession e794d591-e4e7-407f-915f-241a82702176 has been created.\n\n",
					"output_type": "stream"
				}
			]
		},
		{
			"cell_type": "markdown",
			"source": "## Glue DynamicFrames\n### Create DynamicFrame for each of the 3 datasets",
			"metadata": {}
		},
		{
			"cell_type": "code",
			"source": "# Create DynamicFrame for Customer dataset\ncustomer = glueContext.create_dynamic_frame.from_catalog(\n    database = \"retail_s3\", \n    table_name = \"customer\")",
			"metadata": {
				"trusted": true
			},
			"execution_count": 2,
			"outputs": [
				{
					"name": "stdout",
					"text": "\n",
					"output_type": "stream"
				}
			]
		},
		{
			"cell_type": "code",
			"source": "# Print number of records in the DynamicFrame and print schema\nprint(\"Record Count: \", customer.count())\ncustomer.printSchema()",
			"metadata": {
				"trusted": true
			},
			"execution_count": 3,
			"outputs": [
				{
					"name": "stdout",
					"text": "Record Count:  4375\nroot\n|-- customer_id: long\n|-- title: string\n|-- first_name: string\n|-- middle_name: string\n|-- last_name: string\n|-- company_name: string\n|-- email_address: string\n|-- phone_no: string\n|-- join_date: string\n",
					"output_type": "stream"
				}
			]
		},
		{
			"cell_type": "code",
			"source": "# View records from Customer dynamicframe\ncustomer.show(10)",
			"metadata": {
				"trusted": true
			},
			"execution_count": 4,
			"outputs": [
				{
					"name": "stdout",
					"text": "{\"customer_id\": 17850, \"title\": \"Mr.\", \"first_name\": \"Orlando\", \"middle_name\": \"N.\", \"last_name\": \"Gee\", \"company_name\": \"A Bike Store\", \"email_address\": \"orlando0@adventure-works.com\", \"phone_no\": \"245-555-0173\", \"join_date\": \"8/1/05 0:00\"}\n{\"customer_id\": 13047, \"title\": \"Mr.\", \"first_name\": \"Keith\", \"middle_name\": \"\", \"last_name\": \"Harris\", \"company_name\": \"Progressive Sports\", \"email_address\": \"keith0@adventure-works.com\", \"phone_no\": \"170-555-0127\", \"join_date\": \"8/1/06 0:00\"}\n{\"customer_id\": 12583, \"title\": \"Ms.\", \"first_name\": \"Donna\", \"middle_name\": \"F.\", \"last_name\": \"Carreras\", \"company_name\": \"Advanced Bike Components\", \"email_address\": \"donna0@adventure-works.com\", \"phone_no\": \"279-555-0130\", \"join_date\": \"9/1/05 0:00\"}\n{\"customer_id\": 13748, \"title\": \"Ms.\", \"first_name\": \"Janet\", \"middle_name\": \"M.\", \"last_name\": \"Gates\", \"company_name\": \"Modular Cycle Systems\", \"email_address\": \"janet1@adventure-works.com\", \"phone_no\": \"710-555-0173\", \"join_date\": \"7/1/06 0:00\"}\n{\"customer_id\": 15100, \"title\": \"Mr.\", \"first_name\": \"Lucy\", \"middle_name\": \"\", \"last_name\": \"Harrington\", \"company_name\": \"Metropolitan Sports Supply\", \"email_address\": \"lucy0@adventure-works.com\", \"phone_no\": \"828-555-0186\", \"join_date\": \"9/1/06 0:00\"}\n{\"customer_id\": 15291, \"title\": \"Ms.\", \"first_name\": \"Rosmarie\", \"middle_name\": \"J.\", \"last_name\": \"Carroll\", \"company_name\": \"Aerobic Exercise Company\", \"email_address\": \"rosmarie0@adventure-works.com\", \"phone_no\": \"244-555-0112\", \"join_date\": \"9/1/07 0:00\"}\n{\"customer_id\": 14688, \"title\": \"Mr.\", \"first_name\": \"Dominic\", \"middle_name\": \"P.\", \"last_name\": \"Gash\", \"company_name\": \"Associated Bikes\", \"email_address\": \"dominic0@adventure-works.com\", \"phone_no\": \"192-555-0173\", \"join_date\": \"7/1/06 0:00\"}\n{\"customer_id\": 17809, \"title\": \"Ms.\", \"first_name\": \"Kathleen\", \"middle_name\": \"M.\", \"last_name\": \"Garza\", \"company_name\": \"Rural Cycle Emporium\", \"email_address\": \"kathleen0@adventure-works.com\", \"phone_no\": \"150-555-0127\", \"join_date\": \"9/1/06 0:00\"}\n{\"customer_id\": 15311, \"title\": \"Ms.\", \"first_name\": \"Katherine\", \"middle_name\": \"\", \"last_name\": \"Harding\", \"company_name\": \"Sharp Bikes\", \"email_address\": \"katherine0@adventure-works.com\", \"phone_no\": \"926-555-0159\", \"join_date\": \"8/1/05 0:00\"}\n{\"customer_id\": 14527, \"title\": \"Mr.\", \"first_name\": \"Johnny\", \"middle_name\": \"A.\", \"last_name\": \"Caprio\", \"company_name\": \"Bikes and Motorbikes\", \"email_address\": \"johnny0@adventure-works.com\", \"phone_no\": \"112-555-0191\", \"join_date\": \"8/1/06 0:00\"}\n{\"customer_id\": 16098, \"title\": \"Mr.\", \"first_name\": \"Christopher\", \"middle_name\": \"R.\", \"last_name\": \"Beck\", \"company_name\": \"Bulk Discount Store\", \"email_address\": \"christopher1@adventure-works.com\", \"phone_no\": \"1 (11) 500 555-0132\", \"join_date\": \"9/1/06 0:00\"}\n{\"customer_id\": 18074, \"title\": \"Mr.\", \"first_name\": \"David\", \"middle_name\": \"J.\", \"last_name\": \"Liu\", \"company_name\": \"Catalog Store\", \"email_address\": \"david20@adventure-works.com\", \"phone_no\": \"440-555-0132\", \"join_date\": \"8/1/05 0:00\"}\n{\"customer_id\": 17420, \"title\": \"Mr.\", \"first_name\": \"John\", \"middle_name\": \"A.\", \"last_name\": \"Beaver\", \"company_name\": \"Center Cycle Shop\", \"email_address\": \"john8@adventure-works.com\", \"phone_no\": \"521-555-0195\", \"join_date\": \"4/1/07 0:00\"}\n{\"customer_id\": 16029, \"title\": \"Ms.\", \"first_name\": \"Jean\", \"middle_name\": \"P.\", \"last_name\": \"Handley\", \"company_name\": \"Central Discount Store\", \"email_address\": \"jean1@adventure-works.com\", \"phone_no\": \"582-555-0113\", \"join_date\": \"9/1/05 0:00\"}\n{\"customer_id\": 16250, \"title\": \"\", \"first_name\": \"Jinghao\", \"middle_name\": \"\", \"last_name\": \"Liu\", \"company_name\": \"Chic Department Stores\", \"email_address\": \"jinghao1@adventure-works.com\", \"phone_no\": \"928-555-0116\", \"join_date\": \"9/1/06 0:00\"}\n{\"customer_id\": 12431, \"title\": \"Ms.\", \"first_name\": \"Linda\", \"middle_name\": \"E.\", \"last_name\": \"Burnett\", \"company_name\": \"Travel Systems\", \"email_address\": \"linda4@adventure-works.com\", \"phone_no\": \"121-555-0121\", \"join_date\": \"8/1/05 0:00\"}\n{\"customer_id\": 17511, \"title\": \"Mr.\", \"first_name\": \"Kerim\", \"middle_name\": \"\", \"last_name\": \"Hanif\", \"company_name\": \"Bike World\", \"email_address\": \"kerim0@adventure-works.com\", \"phone_no\": \"216-555-0122\", \"join_date\": \"9/1/06 0:00\"}\n{\"customer_id\": 17548, \"title\": \"Mr.\", \"first_name\": \"Kevin\", \"middle_name\": \"\", \"last_name\": \"Liu\", \"company_name\": \"Eastside Department Store\", \"email_address\": \"kevin5@adventure-works.com\", \"phone_no\": \"926-555-0164\", \"join_date\": \"9/1/06 0:00\"}\n{\"customer_id\": 13705, \"title\": \"Mr.\", \"first_name\": \"Donald\", \"middle_name\": \"L.\", \"last_name\": \"Blanton\", \"company_name\": \"Coalition Bike Company\", \"email_address\": \"donald0@adventure-works.com\", \"phone_no\": \"357-555-0161\", \"join_date\": \"9/1/06 0:00\"}\n{\"customer_id\": 13747, \"title\": \"Ms.\", \"first_name\": \"Jackie\", \"middle_name\": \"E.\", \"last_name\": \"Blackwell\", \"company_name\": \"Commuter Bicycle Store\", \"email_address\": \"jackie0@adventure-works.com\", \"phone_no\": \"972-555-0163\", \"join_date\": \"8/1/07 0:00\"}\n",
					"output_type": "stream"
				}
			]
		},
		{
			"cell_type": "code",
			"source": "# Create DynamicFrame for Sales dataset\nsales = glueContext.create_dynamic_frame.from_catalog(\n    database = \"retail_s3\",\n    table_name = \"sales\")",
			"metadata": {
				"trusted": true
			},
			"execution_count": 5,
			"outputs": [
				{
					"name": "stdout",
					"text": "\n",
					"output_type": "stream"
				}
			]
		},
		{
			"cell_type": "code",
			"source": "# Print number of records in the DynamicFrame and print schema\nprint(\"Record Count: \", sales.count())\nsales.printSchema()",
			"metadata": {
				"trusted": true
			},
			"execution_count": 6,
			"outputs": [
				{
					"name": "stdout",
					"text": "Record Count:  541909\nroot\n|-- invoice_no: string\n|-- product_id: string\n|-- quantity: long\n|-- invoice_date: string\n|-- unit_price: double\n|-- customer_id: long\n|-- country: string\n",
					"output_type": "stream"
				}
			]
		},
		{
			"cell_type": "code",
			"source": "# View records from Sales dynamicframe\nsales.show(10)",
			"metadata": {
				"trusted": true
			},
			"execution_count": 7,
			"outputs": [
				{
					"name": "stdout",
					"text": "{\"invoice_no\": \"536365\", \"product_id\": \"85123A\", \"quantity\": 6, \"invoice_date\": \"12/1/10 8:26\", \"unit_price\": 2.55, \"customer_id\": 17850, \"country\": \"United Kingdom\"}\n{\"invoice_no\": \"536365\", \"product_id\": \"71053\", \"quantity\": 6, \"invoice_date\": \"12/1/10 8:26\", \"unit_price\": 3.39, \"customer_id\": 17850, \"country\": \"United Kingdom\"}\n{\"invoice_no\": \"536365\", \"product_id\": \"84406B\", \"quantity\": 8, \"invoice_date\": \"12/1/10 8:26\", \"unit_price\": 2.75, \"customer_id\": 17850, \"country\": \"United Kingdom\"}\n{\"invoice_no\": \"536365\", \"product_id\": \"84029G\", \"quantity\": 6, \"invoice_date\": \"12/1/10 8:26\", \"unit_price\": 3.39, \"customer_id\": 17850, \"country\": \"United Kingdom\"}\n{\"invoice_no\": \"536365\", \"product_id\": \"84029E\", \"quantity\": 6, \"invoice_date\": \"12/1/10 8:26\", \"unit_price\": 3.39, \"customer_id\": 17850, \"country\": \"United Kingdom\"}\n{\"invoice_no\": \"536365\", \"product_id\": \"22752\", \"quantity\": 2, \"invoice_date\": \"12/1/10 8:26\", \"unit_price\": 7.65, \"customer_id\": 17850, \"country\": \"United Kingdom\"}\n{\"invoice_no\": \"536365\", \"product_id\": \"21730\", \"quantity\": 6, \"invoice_date\": \"12/1/10 8:26\", \"unit_price\": 4.25, \"customer_id\": 17850, \"country\": \"United Kingdom\"}\n{\"invoice_no\": \"536366\", \"product_id\": \"22633\", \"quantity\": 6, \"invoice_date\": \"12/1/10 8:28\", \"unit_price\": 1.85, \"customer_id\": 17850, \"country\": \"United Kingdom\"}\n{\"invoice_no\": \"536366\", \"product_id\": \"22632\", \"quantity\": 6, \"invoice_date\": \"12/1/10 8:28\", \"unit_price\": 1.85, \"customer_id\": 17850, \"country\": \"United Kingdom\"}\n{\"invoice_no\": \"536367\", \"product_id\": \"84879\", \"quantity\": 32, \"invoice_date\": \"12/1/10 8:34\", \"unit_price\": 1.69, \"customer_id\": 13047, \"country\": \"United Kingdom\"}\n{\"invoice_no\": \"536367\", \"product_id\": \"22745\", \"quantity\": 6, \"invoice_date\": \"12/1/10 8:34\", \"unit_price\": 2.1, \"customer_id\": 13047, \"country\": \"United Kingdom\"}\n{\"invoice_no\": \"536367\", \"product_id\": \"22748\", \"quantity\": 6, \"invoice_date\": \"12/1/10 8:34\", \"unit_price\": 2.1, \"customer_id\": 13047, \"country\": \"United Kingdom\"}\n{\"invoice_no\": \"536367\", \"product_id\": \"22749\", \"quantity\": 8, \"invoice_date\": \"12/1/10 8:34\", \"unit_price\": 3.75, \"customer_id\": 13047, \"country\": \"United Kingdom\"}\n{\"invoice_no\": \"536367\", \"product_id\": \"22310\", \"quantity\": 6, \"invoice_date\": \"12/1/10 8:34\", \"unit_price\": 1.65, \"customer_id\": 13047, \"country\": \"United Kingdom\"}\n{\"invoice_no\": \"536367\", \"product_id\": \"84969\", \"quantity\": 6, \"invoice_date\": \"12/1/10 8:34\", \"unit_price\": 4.25, \"customer_id\": 13047, \"country\": \"United Kingdom\"}\n{\"invoice_no\": \"536367\", \"product_id\": \"22623\", \"quantity\": 3, \"invoice_date\": \"12/1/10 8:34\", \"unit_price\": 4.95, \"customer_id\": 13047, \"country\": \"United Kingdom\"}\n{\"invoice_no\": \"536367\", \"product_id\": \"22622\", \"quantity\": 2, \"invoice_date\": \"12/1/10 8:34\", \"unit_price\": 9.95, \"customer_id\": 13047, \"country\": \"United Kingdom\"}\n{\"invoice_no\": \"536367\", \"product_id\": \"21754\", \"quantity\": 3, \"invoice_date\": \"12/1/10 8:34\", \"unit_price\": 5.95, \"customer_id\": 13047, \"country\": \"United Kingdom\"}\n{\"invoice_no\": \"536367\", \"product_id\": \"21755\", \"quantity\": 3, \"invoice_date\": \"12/1/10 8:34\", \"unit_price\": 5.95, \"customer_id\": 13047, \"country\": \"United Kingdom\"}\n{\"invoice_no\": \"536367\", \"product_id\": \"21777\", \"quantity\": 4, \"invoice_date\": \"12/1/10 8:34\", \"unit_price\": 7.95, \"customer_id\": 13047, \"country\": \"United Kingdom\"}\n",
					"output_type": "stream"
				}
			]
		},
		{
			"cell_type": "code",
			"source": "# Create DynamicFrame for Product dataset\nproduct = glueContext.create_dynamic_frame.from_catalog(\n    database = \"retail_s3\",\n    table_name = \"product\")",
			"metadata": {
				"trusted": true
			},
			"execution_count": 14,
			"outputs": [
				{
					"name": "stdout",
					"text": "\n",
					"output_type": "stream"
				}
			]
		},
		{
			"cell_type": "code",
			"source": "# Print number of records in the DynamicFrame and print schema\nprint(\"Record Count: \", product.count())\nproduct.printSchema()",
			"metadata": {
				"trusted": true
			},
			"execution_count": 15,
			"outputs": [
				{
					"name": "stdout",
					"text": "Record Count:  3960\nroot\n|-- product_id: string\n|-- product_desc: string\n",
					"output_type": "stream"
				}
			]
		},
		{
			"cell_type": "code",
			"source": "# View records from Product dynamicframe\nproduct.show(10)",
			"metadata": {
				"trusted": true
			},
			"execution_count": 16,
			"outputs": [
				{
					"name": "stdout",
					"text": "{\"product_id\": \"product_id\", \"product_desc\": \"product_desc\"}\n{\"product_id\": \"85123A\", \"product_desc\": \"WHITE HANGING HEART T-LIGHT HOLDER\"}\n{\"product_id\": \"71053\", \"product_desc\": \"WHITE METAL LANTERN\"}\n{\"product_id\": \"84406B\", \"product_desc\": \"CREAM CUPID HEARTS COAT HANGER\"}\n{\"product_id\": \"84029G\", \"product_desc\": \"KNITTED UNION FLAG HOT WATER BOTTLE\"}\n{\"product_id\": \"84029E\", \"product_desc\": \"RED WOOLLY HOTTIE WHITE HEART.\"}\n{\"product_id\": \"22752\", \"product_desc\": \"SET 7 BABUSHKA NESTING BOXES\"}\n{\"product_id\": \"21730\", \"product_desc\": \"GLASS STAR FROSTED T-LIGHT HOLDER\"}\n{\"product_id\": \"22633\", \"product_desc\": \"HAND WARMER UNION JACK\"}\n{\"product_id\": \"22632\", \"product_desc\": \"HAND WARMER RED POLKA DOT\"}\n{\"product_id\": \"84879\", \"product_desc\": \"ASSORTED COLOUR BIRD ORNAMENT\"}\n{\"product_id\": \"22745\", \"product_desc\": \"POPPY'S PLAYHOUSE BEDROOM \"}\n{\"product_id\": \"22748\", \"product_desc\": \"POPPY'S PLAYHOUSE KITCHEN\"}\n{\"product_id\": \"22749\", \"product_desc\": \"FELTCRAFT PRINCESS CHARLOTTE DOLL\"}\n{\"product_id\": \"22310\", \"product_desc\": \"IVORY KNITTED MUG COSY \"}\n{\"product_id\": \"84969\", \"product_desc\": \"BOX OF 6 ASSORTED COLOUR TEASPOONS\"}\n{\"product_id\": \"22623\", \"product_desc\": \"BOX OF VINTAGE JIGSAW BLOCKS \"}\n{\"product_id\": \"22622\", \"product_desc\": \"BOX OF VINTAGE ALPHABET BLOCKS\"}\n{\"product_id\": \"21754\", \"product_desc\": \"HOME BUILDING BLOCK WORD\"}\n{\"product_id\": \"21755\", \"product_desc\": \"LOVE BUILDING BLOCK WORD\"}\n",
					"output_type": "stream"
				}
			]
		},
		{
			"cell_type": "markdown",
			"source": "### Perform Select, Join, Filter Operations",
			"metadata": {}
		},
		{
			"cell_type": "code",
			"source": "# Now that we have all the 3 source data files loaded into memory as part of creating the dynamic frame\n# Let's join all the 3 dynamic frames to get the combined view\n# DynamicFrame provides various classes like filter, join, map, count etc which we can use for our data transformations.\n# For more details, please refer to the Glue Developer Guide doc -> https://docs.aws.amazon.com/glue/latest/dg/aws-glue-api-crawler-pyspark-extensions-dynamic-frame.html#aws-glue-api-crawler-pyspark-extensions-dynamic-frame-toDF\n\njoinedDyF = Join.apply(customer, Join.apply(sales, product, \"product_id\", \"product_id\"), \"customer_id\", \"customer_id\")",
			"metadata": {
				"trusted": true
			},
			"execution_count": 17,
			"outputs": [
				{
					"name": "stdout",
					"text": "\n",
					"output_type": "stream"
				}
			]
		},
		{
			"cell_type": "code",
			"source": "# as the joined dyanmic frame will have wider columns from all the 3 dynamic frames, we will use a DynamicFrame class called \"select_fields\" to display only a set of selective fileds\n\nselectColumnsDyF = joinedDyF.select_fields(paths=[\"customer_id\", \"first_name\", \"last_name\", \"product_id\", \"product_desc\", \"quantity\", \"unit_price\", \"country\", \"invoice_no\"])  ",
			"metadata": {
				"trusted": true
			},
			"execution_count": 18,
			"outputs": [
				{
					"name": "stdout",
					"text": "\n",
					"output_type": "stream"
				}
			]
		},
		{
			"cell_type": "code",
			"source": "# Let's view the data and count\nselectColumnsDyF.show(10)\n\nprint(\"Record count: \", selectColumnsDyF.count())",
			"metadata": {
				"trusted": true
			},
			"execution_count": 19,
			"outputs": [
				{
					"name": "stdout",
					"text": "{\"customer_id\": 13835, \"first_name\": \"Todd\", \"last_name\": \"Logan\", \"product_id\": \"21080\", \"product_desc\": \"SET/6 RED SPOTTY PAPER CUPS\", \"quantity\": 12, \"unit_price\": 0.85, \"country\": \"United Kingdom\", \"invoice_no\": \"552309\"}\n{\"customer_id\": 13835, \"first_name\": \"Todd\", \"last_name\": \"Logan\", \"product_id\": \"21080\", \"product_desc\": \"SET/6 RED SPOTTY PAPER CUPS\", \"quantity\": 12, \"unit_price\": 0.85, \"country\": \"United Kingdom\", \"invoice_no\": \"559326\"}\n{\"customer_id\": 13835, \"first_name\": \"Todd\", \"last_name\": \"Logan\", \"product_id\": \"47590B\", \"product_desc\": \"YELLOW METAL CHICKEN HEART \", \"quantity\": 3, \"unit_price\": 5.45, \"country\": \"United Kingdom\", \"invoice_no\": \"552309\"}\n{\"customer_id\": 13835, \"first_name\": \"Todd\", \"last_name\": \"Logan\", \"product_id\": \"46000S\", \"product_desc\": \"BEACH HUT KEY CABINET\", \"quantity\": 4, \"unit_price\": 1.45, \"country\": \"United Kingdom\", \"invoice_no\": \"571657\"}\n{\"customer_id\": 13835, \"first_name\": \"Todd\", \"last_name\": \"Logan\", \"product_id\": \"21888\", \"product_desc\": \"BINGO SET\", \"quantity\": 4, \"unit_price\": 3.75, \"country\": \"United Kingdom\", \"invoice_no\": \"552309\"}\n{\"customer_id\": 13835, \"first_name\": \"Todd\", \"last_name\": \"Logan\", \"product_id\": \"21936\", \"product_desc\": \"KNITTED RABBIT DOLL \", \"quantity\": 5, \"unit_price\": 2.95, \"country\": \"United Kingdom\", \"invoice_no\": \"552309\"}\n{\"customer_id\": 13835, \"first_name\": \"Todd\", \"last_name\": \"Logan\", \"product_id\": \"21936\", \"product_desc\": \"KNITTED RABBIT DOLL \", \"quantity\": 10, \"unit_price\": 2.95, \"country\": \"United Kingdom\", \"invoice_no\": \"559326\"}\n{\"customer_id\": 13835, \"first_name\": \"Todd\", \"last_name\": \"Logan\", \"product_id\": \"22728\", \"product_desc\": \"ALARM CLOCK BAKELIKE PINK\", \"quantity\": 4, \"unit_price\": 3.75, \"country\": \"United Kingdom\", \"invoice_no\": \"571657\"}\n{\"customer_id\": 13835, \"first_name\": \"Todd\", \"last_name\": \"Logan\", \"product_id\": \"23343\", \"product_desc\": \"MIRRORED WALL ART SNOWFLAKES\", \"quantity\": 10, \"unit_price\": 2.08, \"country\": \"United Kingdom\", \"invoice_no\": \"571657\"}\n{\"customer_id\": 13835, \"first_name\": \"Todd\", \"last_name\": \"Logan\", \"product_id\": \"23284\", \"product_desc\": \"LASER CUT MULTI STRAND NECKLACE\", \"quantity\": 4, \"unit_price\": 7.95, \"country\": \"United Kingdom\", \"invoice_no\": \"552309\"}\n{\"customer_id\": 13835, \"first_name\": \"Todd\", \"last_name\": \"Logan\", \"product_id\": \"23284\", \"product_desc\": \"LASER CUT MULTI STRAND NECKLACE\", \"quantity\": 4, \"unit_price\": 7.95, \"country\": \"United Kingdom\", \"invoice_no\": \"559326\"}\n{\"customer_id\": 13835, \"first_name\": \"Todd\", \"last_name\": \"Logan\", \"product_id\": \"22189\", \"product_desc\": \"ENAMEL FLOWER JUG CREAM\", \"quantity\": 4, \"unit_price\": 3.95, \"country\": \"United Kingdom\", \"invoice_no\": \"552309\"}\n{\"customer_id\": 13835, \"first_name\": \"Todd\", \"last_name\": \"Logan\", \"product_id\": \"22772\", \"product_desc\": \"PINK DRAWER KNOB ACRYLIC EDWARDIAN\", \"quantity\": 12, \"unit_price\": 1.25, \"country\": \"United Kingdom\", \"invoice_no\": \"571657\"}\n{\"customer_id\": 13835, \"first_name\": \"Todd\", \"last_name\": \"Logan\", \"product_id\": \"22998\", \"product_desc\": \"LUNCH BAG SUKI DESIGN \", \"quantity\": 24, \"unit_price\": 0.42, \"country\": \"United Kingdom\", \"invoice_no\": \"559326\"}\n{\"customer_id\": 13835, \"first_name\": \"Todd\", \"last_name\": \"Logan\", \"product_id\": \"47590A\", \"product_desc\": \"MIDNIGHT GLAMOUR SCARF KNITTING KIT\", \"quantity\": 3, \"unit_price\": 5.45, \"country\": \"United Kingdom\", \"invoice_no\": \"552309\"}\n{\"customer_id\": 13835, \"first_name\": \"Todd\", \"last_name\": \"Logan\", \"product_id\": \"85123A\", \"product_desc\": \"WHITE HANGING HEART T-LIGHT HOLDER\", \"quantity\": 6, \"unit_price\": 2.95, \"country\": \"United Kingdom\", \"invoice_no\": \"576346\"}\n{\"customer_id\": 13835, \"first_name\": \"Todd\", \"last_name\": \"Logan\", \"product_id\": \"85123A\", \"product_desc\": \"EDWARDIAN PARASOL RED\", \"quantity\": 6, \"unit_price\": 2.95, \"country\": \"United Kingdom\", \"invoice_no\": \"576346\"}\n{\"customer_id\": 13835, \"first_name\": \"Todd\", \"last_name\": \"Logan\", \"product_id\": \"23229\", \"product_desc\": \"36 DOILIES VINTAGE CHRISTMAS\", \"quantity\": 6, \"unit_price\": 3.75, \"country\": \"United Kingdom\", \"invoice_no\": \"559326\"}\n{\"customer_id\": 13835, \"first_name\": \"Todd\", \"last_name\": \"Logan\", \"product_id\": \"22464\", \"product_desc\": \"HANGING MEDINA LANTERN SMALL\", \"quantity\": 12, \"unit_price\": 1.65, \"country\": \"United Kingdom\", \"invoice_no\": \"552309\"}\n{\"customer_id\": 13835, \"first_name\": \"Todd\", \"last_name\": \"Logan\", \"product_id\": \"22666\", \"product_desc\": \"RECIPE BOX PANTRY YELLOW DESIGN\", \"quantity\": 6, \"unit_price\": 2.95, \"country\": \"United Kingdom\", \"invoice_no\": \"552309\"}\n\nRecord count:  542060\n",
					"output_type": "stream"
				}
			]
		},
		{
			"cell_type": "code",
			"source": "# Now let's look at filtering the data, get the records which have country = 'United Kingdom\"\nfilteredDyF = Filter.apply(frame = selectColumnsDyF,\n                           f = lambda x: x[\"country\"] in \"United Kingdom\"\n                          )",
			"metadata": {
				"trusted": true
			},
			"execution_count": 20,
			"outputs": [
				{
					"name": "stdout",
					"text": "\n",
					"output_type": "stream"
				}
			]
		},
		{
			"cell_type": "code",
			"source": "# Let's view the data and count\nfilteredDyF.show(10)\n\nprint(\"Record count: \", filteredDyF.count())",
			"metadata": {
				"trusted": true
			},
			"execution_count": 21,
			"outputs": [
				{
					"name": "stdout",
					"text": "{\"product_id\": \"21086\", \"first_name\": \"Todd\", \"unit_price\": 0.65, \"country\": \"United Kingdom\", \"customer_id\": 13835, \"product_desc\": \"POLKADOT RAIN HAT \", \"invoice_no\": \"552309\", \"quantity\": 12, \"last_name\": \"Logan\"}\n{\"product_id\": \"21086\", \"first_name\": \"Todd\", \"unit_price\": 0.65, \"country\": \"United Kingdom\", \"customer_id\": 13835, \"product_desc\": \"POLKADOT RAIN HAT \", \"invoice_no\": \"559326\", \"quantity\": 12, \"last_name\": \"Logan\"}\n{\"product_id\": \"22821\", \"first_name\": \"Todd\", \"unit_price\": 0.65, \"country\": \"United Kingdom\", \"customer_id\": 13835, \"product_desc\": \"ASSORTED COLOURS SILK FAN\", \"invoice_no\": \"571657\", \"quantity\": 12, \"last_name\": \"Logan\"}\n{\"product_id\": \"85048\", \"first_name\": \"Todd\", \"unit_price\": 7.95, \"country\": \"United Kingdom\", \"customer_id\": 13835, \"product_desc\": \"CREAM SWEETHEART LETTER RACK\", \"invoice_no\": \"571657\", \"quantity\": 2, \"last_name\": \"Logan\"}\n{\"product_id\": \"85048\", \"first_name\": \"Todd\", \"unit_price\": 7.95, \"country\": \"United Kingdom\", \"customer_id\": 13835, \"product_desc\": \"CREAM SWEETHEART LETTER RACK\", \"invoice_no\": \"576346\", \"quantity\": 2, \"last_name\": \"Logan\"}\n{\"product_id\": \"22355\", \"first_name\": \"Todd\", \"unit_price\": 0.85, \"country\": \"United Kingdom\", \"customer_id\": 13835, \"product_desc\": \"CHARLOTTE BAG SUKI DESIGN\", \"invoice_no\": \"576346\", \"quantity\": 10, \"last_name\": \"Logan\"}\n{\"product_id\": \"23332\", \"first_name\": \"Todd\", \"unit_price\": 1.65, \"country\": \"United Kingdom\", \"customer_id\": 13835, \"product_desc\": \"SET OF 6 SNACK LOAF BAKING CASES\", \"invoice_no\": \"576346\", \"quantity\": 12, \"last_name\": \"Logan\"}\n{\"product_id\": \"23431\", \"first_name\": \"Todd\", \"unit_price\": 0.83, \"country\": \"United Kingdom\", \"customer_id\": 13835, \"product_desc\": \"BLUE/YELLOW CERAMIC CANDLE HOLDER\", \"invoice_no\": \"576346\", \"quantity\": 12, \"last_name\": \"Logan\"}\n{\"product_id\": \"22380\", \"first_name\": \"Todd\", \"unit_price\": 2.1, \"country\": \"United Kingdom\", \"customer_id\": 13835, \"product_desc\": \"TOY TIDY SPACEBOY  \", \"invoice_no\": \"552309\", \"quantity\": 5, \"last_name\": \"Logan\"}\n{\"product_id\": \"22381\", \"first_name\": \"Todd\", \"unit_price\": 2.1, \"country\": \"United Kingdom\", \"customer_id\": 13835, \"product_desc\": \"ANTIQUE GLASS DRESSING TABLE POT\", \"invoice_no\": \"552309\", \"quantity\": 5, \"last_name\": \"Logan\"}\n{\"product_id\": \"22381\", \"first_name\": \"Todd\", \"unit_price\": 2.1, \"country\": \"United Kingdom\", \"customer_id\": 13835, \"product_desc\": \"ANTIQUE GLASS DRESSING TABLE POT\", \"invoice_no\": \"559326\", \"quantity\": 5, \"last_name\": \"Logan\"}\n{\"product_id\": \"21094\", \"first_name\": \"Todd\", \"unit_price\": 0.85, \"country\": \"United Kingdom\", \"customer_id\": 13835, \"product_desc\": \"LUNCH BAG RED RETROSPOT\", \"invoice_no\": \"552309\", \"quantity\": 12, \"last_name\": \"Logan\"}\n{\"product_id\": \"21094\", \"first_name\": \"Todd\", \"unit_price\": 0.85, \"country\": \"United Kingdom\", \"customer_id\": 13835, \"product_desc\": \"LUNCH BAG RED RETROSPOT\", \"invoice_no\": \"559326\", \"quantity\": 12, \"last_name\": \"Logan\"}\n{\"product_id\": \"22384\", \"first_name\": \"Todd\", \"unit_price\": 1.65, \"country\": \"United Kingdom\", \"customer_id\": 13835, \"product_desc\": \"LUNCH BAG PINK POLKADOT\", \"invoice_no\": \"559326\", \"quantity\": 10, \"last_name\": \"Logan\"}\n{\"product_id\": \"22189\", \"first_name\": \"Todd\", \"unit_price\": 3.95, \"country\": \"United Kingdom\", \"customer_id\": 13835, \"product_desc\": \"ENAMEL FLOWER JUG CREAM\", \"invoice_no\": \"552309\", \"quantity\": 4, \"last_name\": \"Logan\"}\n{\"product_id\": \"21080\", \"first_name\": \"Todd\", \"unit_price\": 0.85, \"country\": \"United Kingdom\", \"customer_id\": 13835, \"product_desc\": \"SET/6 RED SPOTTY PAPER CUPS\", \"invoice_no\": \"552309\", \"quantity\": 12, \"last_name\": \"Logan\"}\n{\"product_id\": \"21080\", \"first_name\": \"Todd\", \"unit_price\": 0.85, \"country\": \"United Kingdom\", \"customer_id\": 13835, \"product_desc\": \"SET/6 RED SPOTTY PAPER CUPS\", \"invoice_no\": \"559326\", \"quantity\": 12, \"last_name\": \"Logan\"}\n{\"product_id\": \"47590B\", \"first_name\": \"Todd\", \"unit_price\": 5.45, \"country\": \"United Kingdom\", \"customer_id\": 13835, \"product_desc\": \"YELLOW METAL CHICKEN HEART \", \"invoice_no\": \"552309\", \"quantity\": 3, \"last_name\": \"Logan\"}\n{\"product_id\": \"22998\", \"first_name\": \"Todd\", \"unit_price\": 0.42, \"country\": \"United Kingdom\", \"customer_id\": 13835, \"product_desc\": \"LUNCH BAG SUKI DESIGN \", \"invoice_no\": \"559326\", \"quantity\": 24, \"last_name\": \"Logan\"}\n{\"product_id\": \"47590A\", \"first_name\": \"Todd\", \"unit_price\": 5.45, \"country\": \"United Kingdom\", \"customer_id\": 13835, \"product_desc\": \"MIDNIGHT GLAMOUR SCARF KNITTING KIT\", \"invoice_no\": \"552309\", \"quantity\": 3, \"last_name\": \"Logan\"}\n\nRecord count:  495546\n",
					"output_type": "stream"
				}
			]
		},
		{
			"cell_type": "markdown",
			"source": "## Drop Fields, Rename columns",
			"metadata": {}
		},
		{
			"cell_type": "code",
			"source": "# Drop field invoice_no\ndropFieldsDyF = filteredDyF.drop_fields([\"invoice_no\"])\ndropFieldsDyF.show(10)",
			"metadata": {
				"trusted": true
			},
			"execution_count": 18,
			"outputs": [
				{
					"name": "stdout",
					"text": "{\"first_name\": \"Todd\", \"product_id\": \"21086\", \"unit_price\": 0.65, \"country\": \"United Kingdom\", \"customer_id\": 13835, \"product_desc\": \"POLKADOT RAIN HAT \", \"quantity\": 12, \"last_name\": \"Logan\"}\n{\"first_name\": \"Todd\", \"product_id\": \"21086\", \"unit_price\": 0.65, \"country\": \"United Kingdom\", \"customer_id\": 13835, \"product_desc\": \"POLKADOT RAIN HAT \", \"quantity\": 12, \"last_name\": \"Logan\"}\n{\"first_name\": \"Todd\", \"product_id\": \"22821\", \"unit_price\": 0.65, \"country\": \"United Kingdom\", \"customer_id\": 13835, \"product_desc\": \"ASSORTED COLOURS SILK FAN\", \"quantity\": 12, \"last_name\": \"Logan\"}\n{\"first_name\": \"Todd\", \"product_id\": \"85048\", \"unit_price\": 7.95, \"country\": \"United Kingdom\", \"customer_id\": 13835, \"product_desc\": \"CREAM SWEETHEART LETTER RACK\", \"quantity\": 2, \"last_name\": \"Logan\"}\n{\"first_name\": \"Todd\", \"product_id\": \"85048\", \"unit_price\": 7.95, \"country\": \"United Kingdom\", \"customer_id\": 13835, \"product_desc\": \"CREAM SWEETHEART LETTER RACK\", \"quantity\": 2, \"last_name\": \"Logan\"}\n{\"first_name\": \"Todd\", \"product_id\": \"22355\", \"unit_price\": 0.85, \"country\": \"United Kingdom\", \"customer_id\": 13835, \"product_desc\": \"CHARLOTTE BAG SUKI DESIGN\", \"quantity\": 10, \"last_name\": \"Logan\"}\n{\"first_name\": \"Todd\", \"product_id\": \"72807C\", \"unit_price\": 4.25, \"country\": \"United Kingdom\", \"customer_id\": 13835, \"product_desc\": \"SET/3 VANILLA SCENTED CANDLE IN BOX\", \"quantity\": 4, \"last_name\": \"Logan\"}\n{\"first_name\": \"Todd\", \"product_id\": \"23332\", \"unit_price\": 1.65, \"country\": \"United Kingdom\", \"customer_id\": 13835, \"product_desc\": \"SET OF 6 SNACK LOAF BAKING CASES\", \"quantity\": 12, \"last_name\": \"Logan\"}\n{\"first_name\": \"Todd\", \"product_id\": \"23431\", \"unit_price\": 0.83, \"country\": \"United Kingdom\", \"customer_id\": 13835, \"product_desc\": \"BLUE/YELLOW CERAMIC CANDLE HOLDER\", \"quantity\": 12, \"last_name\": \"Logan\"}\n{\"first_name\": \"Todd\", \"product_id\": \"23487\", \"unit_price\": 9.95, \"country\": \"United Kingdom\", \"customer_id\": 13835, \"product_desc\": \"PANTRY HOOK SPATULA\", \"quantity\": 1, \"last_name\": \"Logan\"}\n{\"first_name\": \"Todd\", \"product_id\": \"47591D\", \"unit_price\": 1.95, \"country\": \"United Kingdom\", \"customer_id\": 13835, \"product_desc\": \"PINK FAIRY CAKE CHILDRENS APRON\", \"quantity\": 8, \"last_name\": \"Logan\"}\n{\"first_name\": \"Todd\", \"product_id\": \"22505\", \"unit_price\": 4.95, \"country\": \"United Kingdom\", \"customer_id\": 13835, \"product_desc\": \"BLUE GLASS CHUNKY CHARM BRACELET\", \"quantity\": 4, \"last_name\": \"Logan\"}\n{\"first_name\": \"Todd\", \"product_id\": \"22596\", \"unit_price\": 1.25, \"country\": \"United Kingdom\", \"customer_id\": 13835, \"product_desc\": \"STEEL SWEETHEART ROUND TABLE CREAM\", \"quantity\": 12, \"last_name\": \"Logan\"}\n{\"first_name\": \"Todd\", \"product_id\": \"22307\", \"unit_price\": 1.06, \"country\": \"United Kingdom\", \"customer_id\": 13835, \"product_desc\": \"MULTI HEARTS  STICKERS\", \"quantity\": 12, \"last_name\": \"Logan\"}\n{\"first_name\": \"Todd\", \"product_id\": \"21155\", \"unit_price\": 2.55, \"country\": \"United Kingdom\", \"customer_id\": 13835, \"product_desc\": \"4 SKY BLUE DINNER CANDLES\", \"quantity\": 6, \"last_name\": \"Logan\"}\n{\"first_name\": \"Todd\", \"product_id\": \"22380\", \"unit_price\": 2.1, \"country\": \"United Kingdom\", \"customer_id\": 13835, \"product_desc\": \"TOY TIDY SPACEBOY  \", \"quantity\": 5, \"last_name\": \"Logan\"}\n{\"first_name\": \"Todd\", \"product_id\": \"21080\", \"unit_price\": 0.85, \"country\": \"United Kingdom\", \"customer_id\": 13835, \"product_desc\": \"SET/6 RED SPOTTY PAPER CUPS\", \"quantity\": 12, \"last_name\": \"Logan\"}\n{\"first_name\": \"Todd\", \"product_id\": \"21080\", \"unit_price\": 0.85, \"country\": \"United Kingdom\", \"customer_id\": 13835, \"product_desc\": \"SET/6 RED SPOTTY PAPER CUPS\", \"quantity\": 12, \"last_name\": \"Logan\"}\n{\"first_name\": \"Todd\", \"product_id\": \"47590B\", \"unit_price\": 5.45, \"country\": \"United Kingdom\", \"customer_id\": 13835, \"product_desc\": \"YELLOW METAL CHICKEN HEART \", \"quantity\": 3, \"last_name\": \"Logan\"}\n{\"first_name\": \"Todd\", \"product_id\": \"46000S\", \"unit_price\": 1.45, \"country\": \"United Kingdom\", \"customer_id\": 13835, \"product_desc\": \"BEACH HUT KEY CABINET\", \"quantity\": 4, \"last_name\": \"Logan\"}\n",
					"output_type": "stream"
				}
			]
		},
		{
			"cell_type": "code",
			"source": "# Rename column / Change Field name: quantity to qty\ndropFieldsDyF.rename_field(\"quantity\", \"qty\").show(10)",
			"metadata": {
				"trusted": true
			},
			"execution_count": 19,
			"outputs": [
				{
					"name": "stdout",
					"text": "{\"product_id\": \"21086\", \"first_name\": \"Todd\", \"unit_price\": 0.65, \"country\": \"United Kingdom\", \"customer_id\": 13835, \"product_desc\": \"POLKADOT RAIN HAT \", \"qty\": 12, \"last_name\": \"Logan\"}\n{\"product_id\": \"21086\", \"first_name\": \"Todd\", \"unit_price\": 0.65, \"country\": \"United Kingdom\", \"customer_id\": 13835, \"product_desc\": \"POLKADOT RAIN HAT \", \"qty\": 12, \"last_name\": \"Logan\"}\n{\"product_id\": \"22821\", \"first_name\": \"Todd\", \"unit_price\": 0.65, \"country\": \"United Kingdom\", \"customer_id\": 13835, \"product_desc\": \"ASSORTED COLOURS SILK FAN\", \"qty\": 12, \"last_name\": \"Logan\"}\n{\"product_id\": \"85048\", \"first_name\": \"Todd\", \"unit_price\": 7.95, \"country\": \"United Kingdom\", \"customer_id\": 13835, \"product_desc\": \"CREAM SWEETHEART LETTER RACK\", \"qty\": 2, \"last_name\": \"Logan\"}\n{\"product_id\": \"85048\", \"first_name\": \"Todd\", \"unit_price\": 7.95, \"country\": \"United Kingdom\", \"customer_id\": 13835, \"product_desc\": \"CREAM SWEETHEART LETTER RACK\", \"qty\": 2, \"last_name\": \"Logan\"}\n{\"product_id\": \"22355\", \"first_name\": \"Todd\", \"unit_price\": 0.85, \"country\": \"United Kingdom\", \"customer_id\": 13835, \"product_desc\": \"CHARLOTTE BAG SUKI DESIGN\", \"qty\": 10, \"last_name\": \"Logan\"}\n{\"product_id\": \"72807C\", \"first_name\": \"Todd\", \"unit_price\": 4.25, \"country\": \"United Kingdom\", \"customer_id\": 13835, \"product_desc\": \"SET/3 VANILLA SCENTED CANDLE IN BOX\", \"qty\": 4, \"last_name\": \"Logan\"}\n{\"product_id\": \"23332\", \"first_name\": \"Todd\", \"unit_price\": 1.65, \"country\": \"United Kingdom\", \"customer_id\": 13835, \"product_desc\": \"SET OF 6 SNACK LOAF BAKING CASES\", \"qty\": 12, \"last_name\": \"Logan\"}\n{\"product_id\": \"23431\", \"first_name\": \"Todd\", \"unit_price\": 0.83, \"country\": \"United Kingdom\", \"customer_id\": 13835, \"product_desc\": \"BLUE/YELLOW CERAMIC CANDLE HOLDER\", \"qty\": 12, \"last_name\": \"Logan\"}\n{\"product_id\": \"23487\", \"first_name\": \"Todd\", \"unit_price\": 9.95, \"country\": \"United Kingdom\", \"customer_id\": 13835, \"product_desc\": \"PANTRY HOOK SPATULA\", \"qty\": 1, \"last_name\": \"Logan\"}\n{\"product_id\": \"47591D\", \"first_name\": \"Todd\", \"unit_price\": 1.95, \"country\": \"United Kingdom\", \"customer_id\": 13835, \"product_desc\": \"PINK FAIRY CAKE CHILDRENS APRON\", \"qty\": 8, \"last_name\": \"Logan\"}\n{\"product_id\": \"22505\", \"first_name\": \"Todd\", \"unit_price\": 4.95, \"country\": \"United Kingdom\", \"customer_id\": 13835, \"product_desc\": \"BLUE GLASS CHUNKY CHARM BRACELET\", \"qty\": 4, \"last_name\": \"Logan\"}\n{\"product_id\": \"22596\", \"first_name\": \"Todd\", \"unit_price\": 1.25, \"country\": \"United Kingdom\", \"customer_id\": 13835, \"product_desc\": \"STEEL SWEETHEART ROUND TABLE CREAM\", \"qty\": 12, \"last_name\": \"Logan\"}\n{\"product_id\": \"22307\", \"first_name\": \"Todd\", \"unit_price\": 1.06, \"country\": \"United Kingdom\", \"customer_id\": 13835, \"product_desc\": \"MULTI HEARTS  STICKERS\", \"qty\": 12, \"last_name\": \"Logan\"}\n{\"product_id\": \"21155\", \"first_name\": \"Todd\", \"unit_price\": 2.55, \"country\": \"United Kingdom\", \"customer_id\": 13835, \"product_desc\": \"4 SKY BLUE DINNER CANDLES\", \"qty\": 6, \"last_name\": \"Logan\"}\n{\"product_id\": \"22380\", \"first_name\": \"Todd\", \"unit_price\": 2.1, \"country\": \"United Kingdom\", \"customer_id\": 13835, \"product_desc\": \"TOY TIDY SPACEBOY  \", \"qty\": 5, \"last_name\": \"Logan\"}\n{\"product_id\": \"21080\", \"first_name\": \"Todd\", \"unit_price\": 0.85, \"country\": \"United Kingdom\", \"customer_id\": 13835, \"product_desc\": \"SET/6 RED SPOTTY PAPER CUPS\", \"qty\": 12, \"last_name\": \"Logan\"}\n{\"product_id\": \"21080\", \"first_name\": \"Todd\", \"unit_price\": 0.85, \"country\": \"United Kingdom\", \"customer_id\": 13835, \"product_desc\": \"SET/6 RED SPOTTY PAPER CUPS\", \"qty\": 12, \"last_name\": \"Logan\"}\n{\"product_id\": \"47590B\", \"first_name\": \"Todd\", \"unit_price\": 5.45, \"country\": \"United Kingdom\", \"customer_id\": 13835, \"product_desc\": \"YELLOW METAL CHICKEN HEART \", \"qty\": 3, \"last_name\": \"Logan\"}\n{\"product_id\": \"46000S\", \"first_name\": \"Todd\", \"unit_price\": 1.45, \"country\": \"United Kingdom\", \"customer_id\": 13835, \"product_desc\": \"BEACH HUT KEY CABINET\", \"qty\": 4, \"last_name\": \"Logan\"}\n",
					"output_type": "stream"
				}
			]
		},
		{
			"cell_type": "code",
			"source": "# Another way to remane a column is by applying mapping similar to the Glue Studio -> Actions -> ApplyMappings\n# With mapping, we can also change the datatypes\nmapping = [(\"first_name\",\"string\",\"first_name\",\"string\"),(\"last_name\",\"string\",\"last_name\",\"string\"),(\"product_id\",\"string\",\"product_id\",\"string\"),(\"product_desc\",\"string\",\"product_desc\",\"string\"),(\"unit_price\",\"double\",\"unit_price\",\"double\"),\n           (\"customer_id\",\"long\",\"customer_id\",\"long\"),(\"country\",\"string\",\"country\",\"string\"),(\"quantity\",\"long\",\"qty\",\"long\")]\n\nmapDyF = ApplyMapping.apply(\n    frame = dropFieldsDyF,\n    mappings = mapping\n)\n\nmapDyF.show(10)",
			"metadata": {
				"trusted": true
			},
			"execution_count": 20,
			"outputs": [
				{
					"name": "stdout",
					"text": "{\"first_name\": \"Todd\", \"last_name\": \"Logan\", \"product_id\": \"21086\", \"product_desc\": \"POLKADOT RAIN HAT \", \"unit_price\": 0.65, \"customer_id\": 13835, \"country\": \"United Kingdom\", \"qty\": 12}\n{\"first_name\": \"Todd\", \"last_name\": \"Logan\", \"product_id\": \"21086\", \"product_desc\": \"POLKADOT RAIN HAT \", \"unit_price\": 0.65, \"customer_id\": 13835, \"country\": \"United Kingdom\", \"qty\": 12}\n{\"first_name\": \"Todd\", \"last_name\": \"Logan\", \"product_id\": \"22821\", \"product_desc\": \"ASSORTED COLOURS SILK FAN\", \"unit_price\": 0.65, \"customer_id\": 13835, \"country\": \"United Kingdom\", \"qty\": 12}\n{\"first_name\": \"Todd\", \"last_name\": \"Logan\", \"product_id\": \"85048\", \"product_desc\": \"CREAM SWEETHEART LETTER RACK\", \"unit_price\": 7.95, \"customer_id\": 13835, \"country\": \"United Kingdom\", \"qty\": 2}\n{\"first_name\": \"Todd\", \"last_name\": \"Logan\", \"product_id\": \"85048\", \"product_desc\": \"CREAM SWEETHEART LETTER RACK\", \"unit_price\": 7.95, \"customer_id\": 13835, \"country\": \"United Kingdom\", \"qty\": 2}\n{\"first_name\": \"Todd\", \"last_name\": \"Logan\", \"product_id\": \"22355\", \"product_desc\": \"CHARLOTTE BAG SUKI DESIGN\", \"unit_price\": 0.85, \"customer_id\": 13835, \"country\": \"United Kingdom\", \"qty\": 10}\n{\"first_name\": \"Todd\", \"last_name\": \"Logan\", \"product_id\": \"72807C\", \"product_desc\": \"SET/3 VANILLA SCENTED CANDLE IN BOX\", \"unit_price\": 4.25, \"customer_id\": 13835, \"country\": \"United Kingdom\", \"qty\": 4}\n{\"first_name\": \"Todd\", \"last_name\": \"Logan\", \"product_id\": \"23332\", \"product_desc\": \"SET OF 6 SNACK LOAF BAKING CASES\", \"unit_price\": 1.65, \"customer_id\": 13835, \"country\": \"United Kingdom\", \"qty\": 12}\n{\"first_name\": \"Todd\", \"last_name\": \"Logan\", \"product_id\": \"23431\", \"product_desc\": \"BLUE/YELLOW CERAMIC CANDLE HOLDER\", \"unit_price\": 0.83, \"customer_id\": 13835, \"country\": \"United Kingdom\", \"qty\": 12}\n{\"first_name\": \"Todd\", \"last_name\": \"Logan\", \"product_id\": \"23487\", \"product_desc\": \"PANTRY HOOK SPATULA\", \"unit_price\": 9.95, \"customer_id\": 13835, \"country\": \"United Kingdom\", \"qty\": 1}\n{\"first_name\": \"Todd\", \"last_name\": \"Logan\", \"product_id\": \"47591D\", \"product_desc\": \"PINK FAIRY CAKE CHILDRENS APRON\", \"unit_price\": 1.95, \"customer_id\": 13835, \"country\": \"United Kingdom\", \"qty\": 8}\n{\"first_name\": \"Todd\", \"last_name\": \"Logan\", \"product_id\": \"22505\", \"product_desc\": \"BLUE GLASS CHUNKY CHARM BRACELET\", \"unit_price\": 4.95, \"customer_id\": 13835, \"country\": \"United Kingdom\", \"qty\": 4}\n{\"first_name\": \"Todd\", \"last_name\": \"Logan\", \"product_id\": \"22596\", \"product_desc\": \"STEEL SWEETHEART ROUND TABLE CREAM\", \"unit_price\": 1.25, \"customer_id\": 13835, \"country\": \"United Kingdom\", \"qty\": 12}\n{\"first_name\": \"Todd\", \"last_name\": \"Logan\", \"product_id\": \"22307\", \"product_desc\": \"MULTI HEARTS  STICKERS\", \"unit_price\": 1.06, \"customer_id\": 13835, \"country\": \"United Kingdom\", \"qty\": 12}\n{\"first_name\": \"Todd\", \"last_name\": \"Logan\", \"product_id\": \"21155\", \"product_desc\": \"4 SKY BLUE DINNER CANDLES\", \"unit_price\": 2.55, \"customer_id\": 13835, \"country\": \"United Kingdom\", \"qty\": 6}\n{\"first_name\": \"Todd\", \"last_name\": \"Logan\", \"product_id\": \"22380\", \"product_desc\": \"TOY TIDY SPACEBOY  \", \"unit_price\": 2.1, \"customer_id\": 13835, \"country\": \"United Kingdom\", \"qty\": 5}\n{\"first_name\": \"Todd\", \"last_name\": \"Logan\", \"product_id\": \"21080\", \"product_desc\": \"SET/6 RED SPOTTY PAPER CUPS\", \"unit_price\": 0.85, \"customer_id\": 13835, \"country\": \"United Kingdom\", \"qty\": 12}\n{\"first_name\": \"Todd\", \"last_name\": \"Logan\", \"product_id\": \"21080\", \"product_desc\": \"SET/6 RED SPOTTY PAPER CUPS\", \"unit_price\": 0.85, \"customer_id\": 13835, \"country\": \"United Kingdom\", \"qty\": 12}\n{\"first_name\": \"Todd\", \"last_name\": \"Logan\", \"product_id\": \"47590B\", \"product_desc\": \"YELLOW METAL CHICKEN HEART \", \"unit_price\": 5.45, \"customer_id\": 13835, \"country\": \"United Kingdom\", \"qty\": 3}\n{\"first_name\": \"Todd\", \"last_name\": \"Logan\", \"product_id\": \"46000S\", \"product_desc\": \"BEACH HUT KEY CABINET\", \"unit_price\": 1.45, \"customer_id\": 13835, \"country\": \"United Kingdom\", \"qty\": 4}\n",
					"output_type": "stream"
				}
			]
		},
		{
			"cell_type": "markdown",
			"source": "## Persist data to S3",
			"metadata": {}
		},
		{
			"cell_type": "code",
			"source": "# Write data to S3\nglueContext.write_dynamic_frame.from_options(\n    frame = mapDyF,\n    connection_type = \"s3\",\n    connection_options = {\"path\":\"s3://redshift-spark-integration/data/tgt/\"},\n    format = \"parquet\"\n)",
			"metadata": {
				"trusted": true
			},
			"execution_count": 21,
			"outputs": [
				{
					"name": "stdout",
					"text": "<awsglue.dynamicframe.DynamicFrame object at 0x7f0b2b6dced0>\n",
					"output_type": "stream"
				}
			]
		},
		{
			"cell_type": "markdown",
			"source": "## Spark DataFrame\nAs the name suggestes, Glue DynamicFrames are truely dynamic in that you can convert a DynamicFrame to an Apache DataFrame converting DynamicRecords into DataFrame rows and Viceversa.<br>\nFor any given ETL job, You an take advantage of the DynamicFrame which is memory optimized, i.e, \"The executor memory with AWS Glue dynamicFrame never exceeds the safe threshold, and will not hit the \"Out of memory\" issues. <br>\nA DynamicRecord represents a logical record in a DynamicFrame which is self-describing and can be used for data that does not conform to a fixed schema.<br>\nWith these and many more advantages that the DynamicFrame provides, you have the full flexibility to convert the DynamicFrames to DataFrames when you want to use the DataFrame functionality and convert it back to DynamicFrame and continue with your ETL script until you write the data to one of the supported targets.",
			"metadata": {}
		},
		{
			"cell_type": "code",
			"source": "# Now Let's conver the DynamicFrame to a DataFrame\nsalesDF = selectColumnsDyF.toDF()",
			"metadata": {
				"trusted": true
			},
			"execution_count": 22,
			"outputs": [
				{
					"name": "stdout",
					"text": "\n",
					"output_type": "stream"
				}
			]
		},
		{
			"cell_type": "code",
			"source": "# Print Schema of the Spark DataFrame\nsalesDF.printSchema()",
			"metadata": {
				"trusted": true
			},
			"execution_count": 26,
			"outputs": [
				{
					"name": "stdout",
					"text": "root\n |-- customer_id: long (nullable = true)\n |-- first_name: string (nullable = true)\n |-- last_name: string (nullable = true)\n |-- product_id: string (nullable = true)\n |-- product_desc: string (nullable = true)\n |-- quantity: long (nullable = true)\n |-- unit_price: double (nullable = true)\n |-- country: string (nullable = true)\n |-- invoice_no: string (nullable = true)\n",
					"output_type": "stream"
				}
			]
		},
		{
			"cell_type": "code",
			"source": "# Select columns from the DataFrame, unlike Glue DynamicFrame, the output of a DataFrame is in tabular format\nsalesDF.select(\"customer_id\",\"product_id\",\"country\").show()",
			"metadata": {
				"trusted": true
			},
			"execution_count": 23,
			"outputs": [
				{
					"name": "stdout",
					"text": "+-----------+----------+--------------+\n|customer_id|product_id|       country|\n+-----------+----------+--------------+\n|      13835|     22189|United Kingdom|\n|      13835|     22772|United Kingdom|\n|      13835|     22464|United Kingdom|\n|      13835|     22666|United Kingdom|\n|      13835|    51014A|United Kingdom|\n|      13835|     23399|United Kingdom|\n|      13835|     23407|United Kingdom|\n|      13835|    72807C|United Kingdom|\n|      13835|     23487|United Kingdom|\n|      13835|    47591D|United Kingdom|\n|      13835|     22505|United Kingdom|\n|      13835|     22596|United Kingdom|\n|      13835|     22307|United Kingdom|\n|      13835|     21155|United Kingdom|\n|      13835|     21086|United Kingdom|\n|      13835|     21086|United Kingdom|\n|      13835|     22998|United Kingdom|\n|      13835|    47590A|United Kingdom|\n|      13835|     22821|United Kingdom|\n|      13835|     85048|United Kingdom|\n+-----------+----------+--------------+\nonly showing top 20 rows\n",
					"output_type": "stream"
				}
			]
		},
		{
			"cell_type": "markdown",
			"source": "## Add, Drop and Rename column",
			"metadata": {}
		},
		{
			"cell_type": "code",
			"source": "# Let's try adding, dropping, renaming columns and also perform some aggregate functions on the dataframe\n# We need to import additional libraries\n\nfrom pyspark.sql.functions import col",
			"metadata": {
				"trusted": true
			},
			"execution_count": 24,
			"outputs": [
				{
					"name": "stdout",
					"text": "\n",
					"output_type": "stream"
				}
			]
		},
		{
			"cell_type": "code",
			"source": "# Add a new derived column to the DataFrame, let's call the new dervied column as \"total_sales\" which is derived by multipying quantity with unit_price for each transaction\n\nDerivedColDF = salesDF.withColumn(\"total_sales\", col(\"quantity\").cast(\"Integer\") * col(\"unit_price\").cast(\"Float\"))\nDerivedColDF.show(10)",
			"metadata": {
				"trusted": true
			},
			"execution_count": 25,
			"outputs": [
				{
					"name": "stdout",
					"text": "+-----------+----------+---------+----------+--------------------+--------+----------+--------------+----------+-----------+\n|customer_id|first_name|last_name|product_id|        product_desc|quantity|unit_price|       country|invoice_no|total_sales|\n+-----------+----------+---------+----------+--------------------+--------+----------+--------------+----------+-----------+\n|      13835|      Todd|    Logan|     21080|SET/6 RED SPOTTY ...|      12|      0.85|United Kingdom|    552309|  10.200001|\n|      13835|      Todd|    Logan|     21080|SET/6 RED SPOTTY ...|      12|      0.85|United Kingdom|    559326|  10.200001|\n|      13835|      Todd|    Logan|    47590B|YELLOW METAL CHIC...|       3|      5.45|United Kingdom|    552309|  16.349998|\n|      13835|      Todd|    Logan|    46000S|BEACH HUT KEY CAB...|       4|      1.45|United Kingdom|    571657|        5.8|\n|      13835|      Todd|    Logan|     21888|           BINGO SET|       4|      3.75|United Kingdom|    552309|       15.0|\n|      13835|      Todd|    Logan|     21936|KNITTED RABBIT DOLL |       5|      2.95|United Kingdom|    552309|      14.75|\n|      13835|      Todd|    Logan|     21936|KNITTED RABBIT DOLL |      10|      2.95|United Kingdom|    559326|       29.5|\n|      13835|      Todd|    Logan|     22728|ALARM CLOCK BAKEL...|       4|      3.75|United Kingdom|    571657|       15.0|\n|      13835|      Todd|    Logan|     23343|MIRRORED WALL ART...|      10|      2.08|United Kingdom|    571657|       20.8|\n|      13835|      Todd|    Logan|     23284|LASER CUT MULTI S...|       4|      7.95|United Kingdom|    552309|       31.8|\n+-----------+----------+---------+----------+--------------------+--------+----------+--------------+----------+-----------+\nonly showing top 10 rows\n",
					"output_type": "stream"
				}
			]
		},
		{
			"cell_type": "code",
			"source": "#drop invoice number column from the DataFrame, am not storing this to a new variable, rather just showing how its done with Spark DataFrame\nDerivedColDF.drop(\"invoice_no\").show(10)",
			"metadata": {
				"trusted": true
			},
			"execution_count": 38,
			"outputs": [
				{
					"name": "stdout",
					"text": "+-----------+----------+---------+----------+--------------------+--------+----------+--------------+-----------+\n|customer_id|first_name|last_name|product_id|        product_desc|quantity|unit_price|       country|total_sales|\n+-----------+----------+---------+----------+--------------------+--------+----------+--------------+-----------+\n|      13835|      Todd|    Logan|     21080|SET/6 RED SPOTTY ...|      12|      0.85|United Kingdom|  10.200001|\n|      13835|      Todd|    Logan|     21080|SET/6 RED SPOTTY ...|      12|      0.85|United Kingdom|  10.200001|\n|      13835|      Todd|    Logan|    47590B|YELLOW METAL CHIC...|       3|      5.45|United Kingdom|  16.349998|\n|      13835|      Todd|    Logan|    46000S|BEACH HUT KEY CAB...|       4|      1.45|United Kingdom|        5.8|\n|      13835|      Todd|    Logan|     21888|           BINGO SET|       4|      3.75|United Kingdom|       15.0|\n|      13835|      Todd|    Logan|     21936|KNITTED RABBIT DOLL |       5|      2.95|United Kingdom|      14.75|\n|      13835|      Todd|    Logan|     21936|KNITTED RABBIT DOLL |      10|      2.95|United Kingdom|       29.5|\n|      13835|      Todd|    Logan|     22728|ALARM CLOCK BAKEL...|       4|      3.75|United Kingdom|       15.0|\n|      13835|      Todd|    Logan|     23343|MIRRORED WALL ART...|      10|      2.08|United Kingdom|       20.8|\n|      13835|      Todd|    Logan|     23284|LASER CUT MULTI S...|       4|      7.95|United Kingdom|       31.8|\n+-----------+----------+---------+----------+--------------------+--------+----------+--------------+-----------+\nonly showing top 10 rows\n",
					"output_type": "stream"
				}
			]
		},
		{
			"cell_type": "code",
			"source": "# Rename an existing column to a new name, am not storing this to a new variable, rather just showing how its done with Spark DataFrame\nDerivedColDF.withColumnRenamed(\"quantity\",\"qty\").show(10)",
			"metadata": {
				"trusted": true
			},
			"execution_count": 40,
			"outputs": [
				{
					"name": "stdout",
					"text": "+-----------+----------+---------+----------+--------------------+---+----------+--------------+----------+-----------+\n|customer_id|first_name|last_name|product_id|        product_desc|qty|unit_price|       country|invoice_no|total_sales|\n+-----------+----------+---------+----------+--------------------+---+----------+--------------+----------+-----------+\n|      13835|      Todd|    Logan|     21086|  POLKADOT RAIN HAT | 12|      0.65|United Kingdom|    552309|  7.7999997|\n|      13835|      Todd|    Logan|     21086|  POLKADOT RAIN HAT | 12|      0.65|United Kingdom|    559326|  7.7999997|\n|      13835|      Todd|    Logan|     22821|ASSORTED COLOURS ...| 12|      0.65|United Kingdom|    571657|  7.7999997|\n|      13835|      Todd|    Logan|     85048|CREAM SWEETHEART ...|  2|      7.95|United Kingdom|    571657|       15.9|\n|      13835|      Todd|    Logan|     85048|CREAM SWEETHEART ...|  2|      7.95|United Kingdom|    576346|       15.9|\n|      13835|      Todd|    Logan|     22355|CHARLOTTE BAG SUK...| 10|      0.85|United Kingdom|    576346|        8.5|\n|      13835|      Todd|    Logan|    72807C|SET/3 VANILLA SCE...|  4|      4.25|United Kingdom|    559326|       17.0|\n|      13835|      Todd|    Logan|     23332|SET OF 6 SNACK LO...| 12|      1.65|United Kingdom|    576346|       19.8|\n|      13835|      Todd|    Logan|     23431|BLUE/YELLOW CERAM...| 12|      0.83|United Kingdom|    576346|       9.96|\n|      13835|      Todd|    Logan|     23487| PANTRY HOOK SPATULA|  1|      9.95|United Kingdom|    571657|       9.95|\n+-----------+----------+---------+----------+--------------------+---+----------+--------------+----------+-----------+\nonly showing top 10 rows\n",
					"output_type": "stream"
				}
			]
		},
		{
			"cell_type": "markdown",
			"source": "## Aggregation",
			"metadata": {}
		},
		{
			"cell_type": "code",
			"source": "# Spark provides powerful functions using which we can efficiently perform complex data analytics like aggregations, joins etc\n# With the sales DataFrame we have, we will perform data analysis by using aggregate function to see total sales by Customer, total sales by Customer by Product, total revenue by country.\n\n#Total sales by Customer, renamed aggregate column to a new name \ntotalSalesbyCustDF = DerivedColDF.groupBy(\"customer_id\").sum(\"total_sales\").withColumnRenamed(\"sum(total_sales)\", \"sum_sales\")\ntotalSalesbyCustDF.show(10)",
			"metadata": {
				"trusted": true
			},
			"execution_count": 26,
			"outputs": [
				{
					"name": "stdout",
					"text": "+-----------+------------------+\n|customer_id|         sum_sales|\n+-----------+------------------+\n|      13638|122.63999938964844|\n|      13263| 7601.319960206747|\n|      17979| 737.8100007176399|\n|      13715|1088.2400034666061|\n|      12725| 402.3000020980835|\n|      14705|             179.0|\n|      13098|29148.479726672173|\n|      18147|179.33999729156494|\n|      17102|              25.5|\n|      14808|2175.3700006604195|\n+-----------+------------------+\nonly showing top 10 rows\n",
					"output_type": "stream"
				}
			]
		},
		{
			"cell_type": "code",
			"source": "# Total sales by Customer by Product\n\ntotalSalesbyCustProdDF = DerivedColDF.groupBy(\"customer_id\", \"product_id\").sum(\"total_sales\").withColumnRenamed(\"sum(total_sales)\", \"sum_sales\")\ntotalSalesbyCustProdDF.show(10)",
			"metadata": {
				"trusted": true
			},
			"execution_count": 27,
			"outputs": [
				{
					"name": "stdout",
					"text": "+-----------+----------+------------------+\n|customer_id|product_id|         sum_sales|\n+-----------+----------+------------------+\n|      13835|    47590B|16.349998474121094|\n|      13835|     23487| 9.949999809265137|\n|      15400|     21878|  71.4000015258789|\n|      16805|    85049E|              1.25|\n|      16805|     22621|1.4500000476837158|\n|      16805|     21889|              1.25|\n|      14825|     20768| 2.549999952316284|\n|      14825|     22219| 6.800000190734863|\n|      14825|     22296|19.799999237060547|\n|      13934|     22722|15.800000190734863|\n+-----------+----------+------------------+\nonly showing top 10 rows\n",
					"output_type": "stream"
				}
			]
		},
		{
			"cell_type": "code",
			"source": "# Total sales by Country\n\ntotalSalesbyCountryDF = DerivedColDF.groupBy(\"country\").sum(\"total_sales\").withColumnRenamed(\"sum(total_sales)\", \"sum_sales\")\ntotalSalesbyCountryDF.show(10)",
			"metadata": {
				"trusted": true
			},
			"execution_count": 28,
			"outputs": [
				{
					"name": "stdout",
					"text": "+------------------+------------------+\n|           country|         sum_sales|\n+------------------+------------------+\n|              EIRE|266116.73906064034|\n|         Lithuania|1661.0599565505981|\n|European Community|1240.7500128746033|\n|            Norway| 35163.45992398262|\n|             Spain|  54926.2302082628|\n|           Belgium| 40893.08015060425|\n|             Japan| 35340.61988157034|\n|            Sweden|36595.909824848175|\n|           Denmark| 18768.14003944397|\n|           Finland|22397.540030241013|\n+------------------+------------------+\nonly showing top 10 rows\n",
					"output_type": "stream"
				}
			]
		},
		{
			"cell_type": "markdown",
			"source": "## Filter Data",
			"metadata": {}
		},
		{
			"cell_type": "code",
			"source": "# Now let's filter the data from DataFrame, this is much straight forward to use where clause as with teh traditional SQL\n\n#Filter data by country = \"United Kingdom\"\nfilteredDF = DerivedColDF.where(\"country == 'United Kingdom'\")\nfilteredDF.show(10)",
			"metadata": {
				"trusted": true
			},
			"execution_count": 72,
			"outputs": [
				{
					"name": "stdout",
					"text": "+-----------+----------+---------+----------+--------------------+--------+----------+--------------+----------+-----------+\n|customer_id|first_name|last_name|product_id|        product_desc|quantity|unit_price|       country|invoice_no|total_sales|\n+-----------+----------+---------+----------+--------------------+--------+----------+--------------+----------+-----------+\n|      13835|      Todd|    Logan|     21080|SET/6 RED SPOTTY ...|      12|      0.85|United Kingdom|    552309|  10.200001|\n|      13835|      Todd|    Logan|     21080|SET/6 RED SPOTTY ...|      12|      0.85|United Kingdom|    559326|  10.200001|\n|      13835|      Todd|    Logan|    47590B|YELLOW METAL CHIC...|       3|      5.45|United Kingdom|    552309|  16.349998|\n|      13835|      Todd|    Logan|    46000S|BEACH HUT KEY CAB...|       4|      1.45|United Kingdom|    571657|        5.8|\n|      13835|      Todd|    Logan|     21888|           BINGO SET|       4|      3.75|United Kingdom|    552309|       15.0|\n|      13835|      Todd|    Logan|     21936|KNITTED RABBIT DOLL |       5|      2.95|United Kingdom|    552309|      14.75|\n|      13835|      Todd|    Logan|     21936|KNITTED RABBIT DOLL |      10|      2.95|United Kingdom|    559326|       29.5|\n|      13835|      Todd|    Logan|     22728|ALARM CLOCK BAKEL...|       4|      3.75|United Kingdom|    571657|       15.0|\n|      13835|      Todd|    Logan|     23343|MIRRORED WALL ART...|      10|      2.08|United Kingdom|    571657|       20.8|\n|      13835|      Todd|    Logan|     23284|LASER CUT MULTI S...|       4|      7.95|United Kingdom|    552309|       31.8|\n+-----------+----------+---------+----------+--------------------+--------+----------+--------------+----------+-----------+\nonly showing top 10 rows\n",
					"output_type": "stream"
				}
			]
		},
		{
			"cell_type": "markdown",
			"source": "## Persist Data",
			"metadata": {}
		},
		{
			"cell_type": "code",
			"source": "# First option to persist data to S3\n\n# Write dataframe directly to S3 as a Parquet file\n\nDerivedColDF.write.parquet(\"s3://redshift-spark-integration/data/tgt/data\")",
			"metadata": {
				"trusted": true
			},
			"execution_count": 74,
			"outputs": [
				{
					"name": "stdout",
					"text": "\n",
					"output_type": "stream"
				}
			]
		},
		{
			"cell_type": "code",
			"source": "# For simplicity and to write to Glue Data Catalog, we can convert the Spark DataFrame back to Glue DynamicFrame and write to either S3 directly or to Catalog\n\n# Conver back to DynamicFrame\nfrom awsglue.dynamicframe import DynamicFrame\n\nDerivedColDyF = DynamicFrame.fromDF(DerivedColDF,glueContext, \"convert\")",
			"metadata": {
				"trusted": true
			},
			"execution_count": 31,
			"outputs": [
				{
					"name": "stdout",
					"text": "\n",
					"output_type": "stream"
				}
			]
		},
		{
			"cell_type": "code",
			"source": "# Write data to S3 using DynamicFrame\n\nglueContext.write_dynamic_frame_from_options(\n    frame=DerivedColDyF,\n    connection_type = \"s3\",\n    connection_options = {\"path\":\"s3://redshift-spark-integration/data/tgt/\"},\n    format = \"parquet\")",
			"metadata": {
				"trusted": true
			},
			"execution_count": 80,
			"outputs": [
				{
					"name": "stdout",
					"text": "<awsglue.dynamicframe.DynamicFrame object at 0x7f0b2b75ec50>\n",
					"output_type": "stream"
				}
			]
		},
		{
			"cell_type": "code",
			"source": "glueContext.write_dynamic_frame.from_catalog(\n    frame=DerivedColDyF,\n    database = \"retail_s3\",\n    table_name = \"tgt\")",
			"metadata": {
				"trusted": true
			},
			"execution_count": 33,
			"outputs": [
				{
					"name": "stdout",
					"text": "<awsglue.dynamicframe.DynamicFrame object at 0x7f7f5053b1d0>\n",
					"output_type": "stream"
				}
			]
		},
		{
			"cell_type": "code",
			"source": "",
			"metadata": {},
			"execution_count": null,
			"outputs": []
		}
	]
}
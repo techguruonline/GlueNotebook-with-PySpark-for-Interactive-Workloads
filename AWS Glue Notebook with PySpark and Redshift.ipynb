{
	"cells": [
		{
			"cell_type": "markdown",
			"metadata": {
				"deletable": false,
				"editable": false,
				"trusted": true
			},
			"source": [
				"\n",
				"# Glue Studio Notebook\n",
				"You are now running a **Glue Studio** notebook; before you can start using your notebook you *must* start an interactive session.\n",
				"\n",
				"## Available Magics\n",
				"|          Magic              |   Type       |                                                                        Description                                                                        |\n",
				"|-----------------------------|--------------|-----------------------------------------------------------------------------------------------------------------------------------------------------------|\n",
				"| %%configure                 |  Dictionary  |  A json-formatted dictionary consisting of all configuration parameters for a session. Each parameter can be specified here or through individual magics. |\n",
				"| %profile                    |  String      |  Specify a profile in your aws configuration to use as the credentials provider.                                                                          |\n",
				"| %iam_role                   |  String      |  Specify an IAM role to execute your session with.                                                                                                        |\n",
				"| %region                     |  String      |  Specify the AWS region in which to initialize a session.                                                                                                 |\n",
				"| %session_id                 |  String      |  Returns the session ID for the running session.                                                                                                          |\n",
				"| %connections                |  List        |  Specify a comma separated list of connections to use in the session.                                                                                     |\n",
				"| %additional_python_modules  |  List        |  Comma separated list of pip packages, s3 paths or private pip arguments.                                                                                 |\n",
				"| %extra_py_files             |  List        |  Comma separated list of additional Python files from S3.                                                                                                 |\n",
				"| %extra_jars                 |  List        |  Comma separated list of additional Jars to include in the cluster.                                                                                       |\n",
				"| %number_of_workers          |  Integer     |  The number of workers of a defined worker_type that are allocated when a job runs. worker_type must be set too.                                          |\n",
				"| %glue_version               |  String      |  The version of Glue to be used by this session. Currently, the only valid options are 2.0 and 3.0 (eg: %glue_version 2.0).                               |\n",
				"| %security_config            |  String      |  Define a security configuration to be used with this session.                                                                                            |\n",
				"| %sql                        |  String      |  Run SQL code. All lines after the initial %%sql magic will be passed as part of the SQL code.                                                            |\n",
				"| %streaming                  |  String      |  Changes the session type to Glue Streaming.                                                                                                              |\n",
				"| %etl                        |  String      |  Changes the session type to Glue ETL.                                                                                                                    |\n",
				"| %status                     |              |  Returns the status of the current Glue session including its duration, configuration and executing user / role.                                          |\n",
				"| %stop_session               |              |  Stops the current session.                                                                                                                               |\n",
				"| %list_sessions              |              |  Lists all currently running sessions by name and ID.                                                                                                     |\n",
				"| %worker_type                |  String      |  Standard, G.1X, *or* G.2X. number_of_workers must be set too. Default is G.1X.                                                                           |\n",
				"| %spark_conf                 |  String      |  Specify custom spark configurations for your session. E.g. %spark_conf spark.serializer=org.apache.spark.serializer.KryoSerializer.                      |"
			]
		},
		{
			"cell_type": "code",
			"execution_count": 1,
			"metadata": {
				"editable": true,
				"trusted": true,
				"vscode": {
					"languageId": "python_glue_session"
				}
			},
			"outputs": [
				{
					"name": "stdout",
					"output_type": "stream",
					"text": [
						"Welcome to the Glue Interactive Sessions Kernel\n",
						"For more information on available magic commands, please type %help in any new cell.\n",
						"\n",
						"Please view our Getting Started page to access the most up-to-date information on the Interactive Sessions kernel: https://docs.aws.amazon.com/glue/latest/dg/interactive-sessions.html\n",
						"Installed kernel version: 0.37.0 \n",
						"Authenticating with environment variables and user-defined glue_role_arn: arn:aws:iam::484830312924:role/Glue-admin-role-for-RS\n",
						"Trying to create a Glue session for the kernel.\n",
						"Worker Type: G.1X\n",
						"Number of Workers: 5\n",
						"Session ID: 9b2423b5-160d-4eff-a1c6-e620a939965c\n",
						"Job Type: glueetl\n",
						"Applying the following default arguments:\n",
						"--glue_kernel_version 0.37.0\n",
						"--enable-glue-datacatalog true\n",
						"Waiting for session 9b2423b5-160d-4eff-a1c6-e620a939965c to get into ready status...\n",
						"Session 9b2423b5-160d-4eff-a1c6-e620a939965c has been created.\n",
						"\n"
					]
				}
			],
			"source": [
				"import sys\n",
				"from awsglue.transforms import *\n",
				"from awsglue.utils import getResolvedOptions\n",
				"from pyspark.context import SparkContext\n",
				"from awsglue.context import GlueContext\n",
				"from awsglue.job import Job\n",
				"\n",
				"sc = SparkContext.getOrCreate()\n",
				"glueContext = GlueContext(sc)\n",
				"spark = glueContext.spark_session\n",
				"job = Job(glueContext)"
			]
		},
		{
			"cell_type": "markdown",
			"metadata": {},
			"source": [
				"## Glue DynamicFrame\n",
				"\n",
				"### Read data from Redshift, Write data to Redshift"
			]
		},
		{
			"cell_type": "markdown",
			"metadata": {},
			"source": [
				"#### In the previous Notebook we saw how to create DynamicFrame from reading source data from S3 using the catalog\n",
				"#### In this Notebook we will see how to read and write data from and to Redshift, create DynamicFrames, convert to DataFrame and use Spark SQL to perform ETL operations\n",
				"\n",
				"#### __Variable naming: All DynamicFrames end with \"DyF\" and all DataFrames ends with \"DF\"__"
			]
		},
		{
			"cell_type": "code",
			"execution_count": 2,
			"metadata": {
				"trusted": true,
				"vscode": {
					"languageId": "python_glue_session"
				}
			},
			"outputs": [
				{
					"name": "stdout",
					"output_type": "stream",
					"text": [
						"\n"
					]
				}
			],
			"source": [
				"my_conn_options = {  \n",
				"    \"url\": \"jdbc:redshift://<cluster-name>.c8qeuccnncmq.us-east-1.redshift.amazonaws.com:5439/retail\",\n",
				"    \"dbtable\": \"sales\",\n",
				"    \"user\": \"awsuser\",\n",
				"    \"password\": \"<pwd>\",\n",
				"    \"redshiftTmpDir\": \"s3://<path>\",\n",
				"    \"aws_iam_role\": \"<role-arn>\"\n",
				"}\n",
				"\n",
				"salesDyF = glueContext.create_dynamic_frame_from_options(\"redshift\", my_conn_options)"
			]
		},
		{
			"cell_type": "code",
			"execution_count": 3,
			"metadata": {
				"trusted": true,
				"vscode": {
					"languageId": "python_glue_session"
				}
			},
			"outputs": [
				{
					"name": "stdout",
					"output_type": "stream",
					"text": [
						"{\"invoice_no\": \"540680\", \"product_id\": \"21245\", \"quantity\": \"2\", \"invoice_date\": \"1/10/11 16:24\", \"unit_price\": \"1.69\", \"customer_id\": \"15311\", \"country\": \"United Kingdom\"}\n",
						"{\"invoice_no\": \"541592\", \"product_id\": \"21051\", \"quantity\": \"3\", \"invoice_date\": \"1/19/11 15:08\", \"unit_price\": \"1.63\", \"customer_id\": \"17850\", \"country\": \"United Kingdom\"}\n",
						"{\"invoice_no\": \"537641\", \"product_id\": \"22516\", \"quantity\": \"1\", \"invoice_date\": \"12/7/10 15:32\", \"unit_price\": \"4.21\", \"customer_id\": \"17591\", \"country\": \"United Kingdom\"}\n",
						"{\"invoice_no\": \"537422\", \"product_id\": \"22791\", \"quantity\": \"12\", \"invoice_date\": \"12/6/10 15:27\", \"unit_price\": \"1.25\", \"customer_id\": \"17812\", \"country\": \"United Kingdom\"}\n",
						"{\"invoice_no\": \"C537431\", \"product_id\": \"21755\", \"quantity\": \"-1\", \"invoice_date\": \"12/6/10 16:10\", \"unit_price\": \"5.95\", \"customer_id\": \"16782\", \"country\": \"United Kingdom\"}\n",
						"{\"invoice_no\": \"549734\", \"product_id\": \"22089\", \"quantity\": \"2\", \"invoice_date\": \"4/11/11 17:12\", \"unit_price\": \"2.95\", \"customer_id\": \"16409\", \"country\": \"United Kingdom\"}\n",
						"{\"invoice_no\": \"540681\", \"product_id\": \"22248\", \"quantity\": \"2\", \"invoice_date\": \"1/10/11 16:25\", \"unit_price\": \"0.81\", \"customer_id\": \"17850\", \"country\": \"United Kingdom\"}\n",
						"{\"invoice_no\": \"537638\", \"product_id\": \"21786\", \"quantity\": \"3\", \"invoice_date\": \"12/7/10 15:28\", \"unit_price\": \"0.85\", \"customer_id\": \"16950\", \"country\": \"United Kingdom\"}\n",
						"{\"invoice_no\": \"540462\", \"product_id\": \"21035\", \"quantity\": \"6\", \"invoice_date\": \"1/7/11 12:45\", \"unit_price\": \"2.95\", \"customer_id\": \"16779\", \"country\": \"United Kingdom\"}\n",
						"{\"invoice_no\": \"546118\", \"product_id\": \"22499\", \"quantity\": \"48\", \"invoice_date\": \"3/9/11 14:14\", \"unit_price\": \"4.95\", \"customer_id\": \"13078\", \"country\": \"United Kingdom\"}\n",
						"{\"invoice_no\": \"544599\", \"product_id\": \"21874\", \"quantity\": \"1\", \"invoice_date\": \"2/21/11 18:15\", \"unit_price\": \"3.29\", \"customer_id\": \"17850\", \"country\": \"United Kingdom\"}\n",
						"{\"invoice_no\": \"540013\", \"product_id\": \"84378\", \"quantity\": \"2\", \"invoice_date\": \"1/4/11 11:30\", \"unit_price\": \"1.25\", \"customer_id\": \"16255\", \"country\": \"United Kingdom\"}\n",
						"{\"invoice_no\": \"542006\", \"product_id\": \"21181\", \"quantity\": \"12\", \"invoice_date\": \"1/25/11 11:20\", \"unit_price\": \"2.1\", \"customer_id\": \"15218\", \"country\": \"United Kingdom\"}\n",
						"{\"invoice_no\": \"542519\", \"product_id\": \"22976\", \"quantity\": \"12\", \"invoice_date\": \"1/28/11 12:19\", \"unit_price\": \"1.25\", \"customer_id\": \"15159\", \"country\": \"United Kingdom\"}\n",
						"{\"invoice_no\": \"548987\", \"product_id\": \"21787\", \"quantity\": \"10\", \"invoice_date\": \"4/5/11 12:50\", \"unit_price\": \"0.85\", \"customer_id\": \"14535\", \"country\": \"United Kingdom\"}\n",
						"{\"invoice_no\": \"540168\", \"product_id\": \"22563\", \"quantity\": \"4\", \"invoice_date\": \"1/5/11 12:15\", \"unit_price\": \"1.25\", \"customer_id\": \"13715\", \"country\": \"United Kingdom\"}\n",
						"{\"invoice_no\": \"542867\", \"product_id\": \"21947\", \"quantity\": \"2\", \"invoice_date\": \"2/1/11 12:22\", \"unit_price\": \"1.25\", \"customer_id\": \"17850\", \"country\": \"United Kingdom\"}\n",
						"{\"invoice_no\": \"544767\", \"product_id\": \"22524\", \"quantity\": \"4\", \"invoice_date\": \"2/23/11 11:10\", \"unit_price\": \"3.29\", \"customer_id\": \"17850\", \"country\": \"United Kingdom\"}\n",
						"{\"invoice_no\": \"539453\", \"product_id\": \"22900\", \"quantity\": \"1\", \"invoice_date\": \"12/17/10 17:08\", \"unit_price\": \"5.91\", \"customer_id\": \"15311\", \"country\": \"United Kingdom\"}\n",
						"{\"invoice_no\": \"538205\", \"product_id\": \"20970\", \"quantity\": \"1\", \"invoice_date\": \"12/10/10 11:24\", \"unit_price\": \"3.75\", \"customer_id\": \"12748\", \"country\": \"United Kingdom\"}\n"
					]
				}
			],
			"source": [
				"salesDyF.show(10)"
			]
		},
		{
			"cell_type": "code",
			"execution_count": 4,
			"metadata": {
				"trusted": true,
				"vscode": {
					"languageId": "python_glue_session"
				}
			},
			"outputs": [
				{
					"name": "stdout",
					"output_type": "stream",
					"text": [
						"\n"
					]
				}
			],
			"source": [
				"my_conn_options = {  \n",
				"    \"url\": \"jdbc:redshift://<cluster-name>.c8qeuccnncmq.us-east-1.redshift.amazonaws.com:5439/retail\",\n",
				"    \"dbtable\": \"product\",\n",
				"    \"user\": \"awsuser\",\n",
				"    \"password\": \"<owd>\",\n",
				"    \"redshiftTmpDir\": \"s3://<path>\",\n",
				"    \"aws_iam_role\": \"<role-arn>\"\n",
				"}\n",
				"\n",
				"productDyF = glueContext.create_dynamic_frame_from_options(\"redshift\", my_conn_options)"
			]
		},
		{
			"cell_type": "code",
			"execution_count": 5,
			"metadata": {
				"trusted": true,
				"vscode": {
					"languageId": "python_glue_session"
				}
			},
			"outputs": [
				{
					"name": "stdout",
					"output_type": "stream",
					"text": [
						"{\"product_id\": \"23316\", \"product_desc\": \"GLASS APOTHECARY BOTTLE PERFUME\"}\n",
						"{\"product_id\": \"22717\", \"product_desc\": \"FRENCH BLUE METAL DOOR SIGN 1\"}\n",
						"{\"product_id\": \"37423\", \"product_desc\": \"Adjustment\"}\n",
						"{\"product_id\": \"22906\", \"product_desc\": \"12 MESSAGE CARDS WITH ENVELOPES\"}\n",
						"{\"product_id\": \"22071\", \"product_desc\": \"SMALL WHITE RETROSPOT MUG IN BOX\"}\n",
						"{\"product_id\": \"23056\", \"product_desc\": \"Display\"}\n",
						"{\"product_id\": \"DCGS0072\", \"product_desc\": \"15 PINK FLUFFY CHICKS IN BOX\"}\n",
						"{\"product_id\": \"85111\", \"product_desc\": \"SET OF 6 HEART CHOPSTICKS\"}\n",
						"{\"product_id\": \"21246\", \"product_desc\": \"DOORMAT MULTICOLOUR STRIPE\"}\n",
						"{\"product_id\": \"23519\", \"product_desc\": \"SWEETHEART 3 TIER CAKE STAND\"}\n",
						"{\"product_id\": \"84789\", \"product_desc\": \"GOLD M PEARL  ORBIT NECKLACE\"}\n",
						"{\"product_id\": \"20892\", \"product_desc\": \"NUMBER TILE VINTAGE FONT 4\"}\n",
						"{\"product_id\": \"90024C\", \"product_desc\": \"ANT COPPER TURQ BOUDICCA BRACELET\"}\n",
						"{\"product_id\": \"22249\", \"product_desc\": \"GOLD DIAMANTE STAR BROOCH\"}\n",
						"{\"product_id\": \"84576\", \"product_desc\": \"VINTAGE BEAD COSMETIC BAG\"}\n",
						"{\"product_id\": \"84818\", \"product_desc\": \"3 WICK CHRISTMAS BRIAR CANDLE\"}\n",
						"{\"product_id\": \"21812\", \"product_desc\": \"WOVEN BUBBLE GUM CUSHION COVER\"}\n",
						"{\"product_id\": \"22302\", \"product_desc\": \"PSYCHEDELIC TILE COASTER\"}\n",
						"{\"product_id\": \"22287\", \"product_desc\": \"SILVER PHOTO FRAME\"}\n",
						"{\"product_id\": \"35271S\", \"product_desc\": \"FELTCRAFT DOLL MARIA\"}\n"
					]
				}
			],
			"source": [
				"productDyF.show(10)"
			]
		},
		{
			"cell_type": "code",
			"execution_count": 6,
			"metadata": {
				"trusted": true,
				"vscode": {
					"languageId": "python_glue_session"
				}
			},
			"outputs": [
				{
					"name": "stdout",
					"output_type": "stream",
					"text": [
						"\n"
					]
				}
			],
			"source": [
				"my_conn_options = {  \n",
				"    \"url\": \"jdbc:redshift://<cluster-name>.c8qeuccnncmq.us-east-1.redshift.amazonaws.com:5439/retail\",\n",
				"    \"dbtable\": \"customer\",\n",
				"    \"user\": \"awsuser\",\n",
				"    \"password\": \"<pwd>\",\n",
				"    \"redshiftTmpDir\": \"<path>\",\n",
				"    \"aws_iam_role\": \"<role-arn>n\"\n",
				"}\n",
				"\n",
				"customerDyF = glueContext.create_dynamic_frame_from_options(\"redshift\", my_conn_options)"
			]
		},
		{
			"cell_type": "code",
			"execution_count": 7,
			"metadata": {
				"trusted": true,
				"vscode": {
					"languageId": "python_glue_session"
				}
			},
			"outputs": [
				{
					"name": "stdout",
					"output_type": "stream",
					"text": [
						"{\"customer_id\": 13243, \"title\": \"Mr.\", \"first_name\": \"Jessie\", \"middle_name\": \"E.\", \"last_name\": \"Valerio\", \"company_name\": \"Wire Baskets and Parts\", \"email_address\": \"jessie0@adventure-works.com\", \"phone_no\": \"103-555-0179\", \"join_date\": \"8/1/05 0:00\"}\n",
						"{\"customer_id\": 13336, \"title\": \"Mr.\", \"first_name\": \"Robert\", \"middle_name\": \"L.\", \"last_name\": \"Barker\", \"company_name\": \"Kickstand Sellers\", \"email_address\": \"robert3@adventure-works.com\", \"phone_no\": \"241-555-0112\", \"join_date\": \"12/1/06 0:00\"}\n",
						"{\"customer_id\": 16120, \"title\": \"Mr.\", \"first_name\": \"Gregory\", \"middle_name\": \"T.\", \"last_name\": \"Vanderbout\", \"company_name\": \"Convenient Sales and Service\", \"email_address\": \"gregory1@adventure-works.com\", \"phone_no\": \"684-555-0134\", \"join_date\": \"9/1/06 0:00\"}\n",
						"{\"customer_id\": 15221, \"title\": \"Mr.\", \"first_name\": \"Shaun\", \"middle_name\": null, \"last_name\": \"Beasley\", \"company_name\": \"Finer Cycle Shop\", \"email_address\": \"shaun0@adventure-works.com\", \"phone_no\": \"396-555-0187\", \"join_date\": \"8/1/06 0:00\"}\n",
						"{\"customer_id\": 16493, \"title\": \"Mr.\", \"first_name\": \"Douglas\", \"middle_name\": \"A.\", \"last_name\": \"Baldwin\", \"company_name\": \"Small Cycle Store\", \"email_address\": \"douglas1@adventure-works.com\", \"phone_no\": \"583-555-0130\", \"join_date\": \"7/1/05 0:00\"}\n",
						"{\"customer_id\": 15159, \"title\": \"Mr.\", \"first_name\": \"Deepak\", \"middle_name\": null, \"last_name\": \"Kumar\", \"company_name\": \"Outdoor Aerobic Systems Company\", \"email_address\": \"deepak0@adventure-works.com\", \"phone_no\": \"1 (11) 500 555-0122\", \"join_date\": \"8/1/07 0:00\"}\n",
						"{\"customer_id\": 15574, \"title\": \"Mr.\", \"first_name\": \"Timothy\", \"middle_name\": \"B.\", \"last_name\": \"Burnett\", \"company_name\": \"Farthest Bike Store\", \"email_address\": \"timothy0@adventure-works.com\", \"phone_no\": \"251-555-0172\", \"join_date\": \"8/1/07 0:00\"}\n",
						"{\"customer_id\": 14390, \"title\": \"Mr.\", \"first_name\": \"Roger\", \"middle_name\": null, \"last_name\": \"Lengel\", \"company_name\": \"Authorized Bike Sales and Rental\", \"email_address\": \"roger1@adventure-works.com\", \"phone_no\": \"947-555-0143\", \"join_date\": \"8/1/07 0:00\"}\n",
						"{\"customer_id\": 14484, \"title\": \"Ms.\", \"first_name\": \"Shirley\", \"middle_name\": \"R.\", \"last_name\": \"Bruner\", \"company_name\": \"Commendable Bikes\", \"email_address\": \"shirley0@adventure-works.com\", \"phone_no\": \"383-555-0155\", \"join_date\": \"7/1/06 0:00\"}\n",
						"{\"customer_id\": 18114, \"title\": \"Ms.\", \"first_name\": \"Kayla\", \"middle_name\": \"M.\", \"last_name\": \"Stotler\", \"company_name\": \"Major Sporting Goods\", \"email_address\": \"kayla0@adventure-works.com\", \"phone_no\": \"315-555-0131\", \"join_date\": \"2/1/07 0:00\"}\n",
						"{\"customer_id\": 14633, \"title\": \"Mr.\", \"first_name\": \"François\", \"middle_name\": null, \"last_name\": \"Ferrier\", \"company_name\": \"Great Bikes\", \"email_address\": \"françois1@adventure-works.com\", \"phone_no\": \"571-555-0128\", \"join_date\": \"7/1/05 0:00\"}\n",
						"{\"customer_id\": 15606, \"title\": \"Ms.\", \"first_name\": \"Diane\", \"middle_name\": \"R.\", \"last_name\": \"Glimp\", \"company_name\": \"The Showroom\", \"email_address\": \"diane3@adventure-works.com\", \"phone_no\": \"898-555-0137\", \"join_date\": \"11/1/05 0:00\"}\n",
						"{\"customer_id\": 14488, \"title\": \"Mr.\", \"first_name\": \"Cory\", \"middle_name\": \"K.\", \"last_name\": \"Booth\", \"company_name\": \"Remarkable Bike Store\", \"email_address\": \"cory0@adventure-works.com\", \"phone_no\": \"121-555-0157\", \"join_date\": \"12/1/05 0:00\"}\n",
						"{\"customer_id\": 13410, \"title\": \"Ms.\", \"first_name\": \"Laura\", \"middle_name\": \"C.\", \"last_name\": \"Steele\", \"company_name\": \"Professional Containers and Packaging Co.\", \"email_address\": \"laura3@adventure-works.com\", \"phone_no\": \"741-555-0173\", \"join_date\": \"8/1/06 0:00\"}\n",
						"{\"customer_id\": 14158, \"title\": \"Mr.\", \"first_name\": \"Paul\", \"middle_name\": \"J.\", \"last_name\": \"Fulton\", \"company_name\": \"Blue Bicycle Company\", \"email_address\": \"paul3@adventure-works.com\", \"phone_no\": \"492-555-0146\", \"join_date\": \"8/1/06 0:00\"}\n",
						"{\"customer_id\": 13988, \"title\": \"Mr.\", \"first_name\": \"James\", \"middle_name\": \"B.\", \"last_name\": \"Bailey\", \"company_name\": \"Road-Way Mart\", \"email_address\": \"james3@adventure-works.com\", \"phone_no\": \"234-555-0112\", \"join_date\": \"10/1/06 0:00\"}\n",
						"{\"customer_id\": 15722, \"title\": \"Ms.\", \"first_name\": \"Liza Marie\", \"middle_name\": \"N.\", \"last_name\": \"Stevens\", \"company_name\": \"Fitness Department Stores\", \"email_address\": \"lizamarie0@adventure-works.com\", \"phone_no\": \"366-555-0110\", \"join_date\": \"8/1/07 0:00\"}\n",
						"{\"customer_id\": 16813, \"title\": \"Mr.\", \"first_name\": \"David\", \"middle_name\": null, \"last_name\": \"Johnson\", \"company_name\": \"Sure & Reliable Sporting Goods\", \"email_address\": \"david18@adventure-works.com\", \"phone_no\": \"476-555-0139\", \"join_date\": \"8/1/05 0:00\"}\n",
						"{\"customer_id\": 13171, \"title\": \"Ms.\", \"first_name\": \"Joyce\", \"middle_name\": null, \"last_name\": \"Jarvis\", \"company_name\": \"Paints and Solvents Company\", \"email_address\": \"joyce0@adventure-works.com\", \"phone_no\": \"458-555-0179\", \"join_date\": \"9/1/07 0:00\"}\n",
						"{\"customer_id\": 13563, \"title\": \"Ms.\", \"first_name\": \"Rhoda\", \"middle_name\": \"J.\", \"last_name\": \"Finley\", \"company_name\": \"Our Sporting Goods Store\", \"email_address\": \"rhoda0@adventure-works.com\", \"phone_no\": \"920-555-0191\", \"join_date\": \"9/1/06 0:00\"}\n"
					]
				}
			],
			"source": [
				"customerDyF.show(10)"
			]
		},
		{
			"cell_type": "code",
			"execution_count": 9,
			"metadata": {
				"trusted": true,
				"vscode": {
					"languageId": "python_glue_session"
				}
			},
			"outputs": [
				{
					"name": "stdout",
					"output_type": "stream",
					"text": [
						"\n"
					]
				}
			],
			"source": [
				"# We will perform just the join and skip the rest of the DynamicFrame operations, please refer to the other Notebook \"AWS Glue Notebook with PySpark.ipynb\" if you want to explore DynamicFrame functions on these datasets\n",
				"\n",
				"joinedDyF = Join.apply(customerDyF, Join.apply(salesDyF, productDyF, \"product_id\", \"product_id\"), \"customer_id\", \"customer_id\")"
			]
		},
		{
			"cell_type": "code",
			"execution_count": 10,
			"metadata": {
				"trusted": true,
				"vscode": {
					"languageId": "python_glue_session"
				}
			},
			"outputs": [
				{
					"name": "stdout",
					"output_type": "stream",
					"text": [
						"\n"
					]
				}
			],
			"source": [
				"# As the joined dyanmic frame will have wider columns from all the 3 dynamic frames, we will use a DynamicFrame class called \"select_fields\" to display only a set of selective fileds and also conver to a DataFrame\n",
				"\n",
				"selectColumnsDF = joinedDyF.select_fields(paths=[\"customer_id\", \"first_name\", \"last_name\", \"product_id\", \"product_desc\", \"quantity\", \"unit_price\", \"country\", \"invoice_no\"]).toDF()"
			]
		},
		{
			"cell_type": "code",
			"execution_count": 22,
			"metadata": {
				"trusted": true,
				"vscode": {
					"languageId": "python_glue_session"
				}
			},
			"outputs": [
				{
					"name": "stdout",
					"output_type": "stream",
					"text": [
						"+-----------+----------+---------+----------+--------------------+--------+----------+--------------+----------+-----------+\n",
						"|customer_id|first_name|last_name|product_id|        product_desc|quantity|unit_price|       country|invoice_no|total_sales|\n",
						"+-----------+----------+---------+----------+--------------------+--------+----------+--------------+----------+-----------+\n",
						"|      13835|      Todd|    Logan|     21888|           BINGO SET|       4|      3.75|United Kingdom|    552309|       15.0|\n",
						"|      13835|      Todd|    Logan|     22464|HANGING MEDINA LA...|      12|      1.65|United Kingdom|    552309|       19.8|\n",
						"|      13835|      Todd|    Logan|     21936| KNITTED RABBIT DOLL|       5|      2.95|United Kingdom|    552309|      14.75|\n",
						"|      13835|      Todd|    Logan|     21936| KNITTED RABBIT DOLL|      10|      2.95|United Kingdom|    559326|       29.5|\n",
						"|      13835|      Todd|    Logan|     22728|ALARM CLOCK BAKEL...|       4|      3.75|United Kingdom|    571657|       15.0|\n",
						"|      13835|      Todd|    Logan|     23343|MIRRORED WALL ART...|      10|      2.08|United Kingdom|    571657|       20.8|\n",
						"|      13835|      Todd|    Logan|    72807C|SET/3 VANILLA SCE...|       4|      4.25|United Kingdom|    559326|       17.0|\n",
						"|      13835|      Todd|    Logan|     22384|LUNCH BAG PINK PO...|      10|      1.65|United Kingdom|    559326|       16.5|\n",
						"|      13835|      Todd|    Logan|     22998|LUNCH BAG SUKI DE...|      24|      0.42|United Kingdom|    559326|      10.08|\n",
						"|      13835|      Todd|    Logan|    47590A|MIDNIGHT GLAMOUR ...|       3|      5.45|United Kingdom|    552309|  16.349998|\n",
						"+-----------+----------+---------+----------+--------------------+--------+----------+--------------+----------+-----------+\n",
						"only showing top 10 rows\n"
					]
				}
			],
			"source": [
				"# Add a new derived column to the DataFrame, let's call the new dervied column as \"total_sales\" which is derived by multipying quantity with unit_price for each transaction\n",
				"from pyspark.sql.functions import col\n",
				"\n",
				"derivedColDF = selectColumnsDF.withColumn(\"total_sales\", col(\"quantity\").cast(\"Integer\") * col(\"unit_price\").cast(\"Float\"))\n",
				"derivedColDF.show(10)"
			]
		},
		{
			"cell_type": "markdown",
			"metadata": {},
			"source": [
				"## DataFrame, Spark SQL"
			]
		},
		{
			"cell_type": "code",
			"execution_count": 23,
			"metadata": {
				"trusted": true,
				"vscode": {
					"languageId": "python_glue_session"
				}
			},
			"outputs": [
				{
					"name": "stdout",
					"output_type": "stream",
					"text": [
						"\n"
					]
				}
			],
			"source": [
				"# We will explore Spark SQL on this newly created DataFrame, for that we will have create  a temp veiw\n",
				"\n",
				"derivedColDF.createOrReplaceTempView(\"salesDF\")"
			]
		},
		{
			"cell_type": "markdown",
			"metadata": {},
			"source": [
				"### Select, Where Clause"
			]
		},
		{
			"cell_type": "code",
			"execution_count": 24,
			"metadata": {
				"trusted": true,
				"vscode": {
					"languageId": "python_glue_session"
				}
			},
			"outputs": [
				{
					"name": "stdout",
					"output_type": "stream",
					"text": [
						"+-----------+----------+---------+----------+-----------------------------------+--------+----------+--------------+----------+-----------+\n",
						"|customer_id|first_name|last_name|product_id|product_desc                       |quantity|unit_price|country       |invoice_no|total_sales|\n",
						"+-----------+----------+---------+----------+-----------------------------------+--------+----------+--------------+----------+-----------+\n",
						"|13835      |Todd      |Logan    |21888     |BINGO SET                          |4       |3.75      |United Kingdom|552309    |15.0       |\n",
						"|13835      |Todd      |Logan    |22464     |HANGING MEDINA LANTERN SMALL       |12      |1.65      |United Kingdom|552309    |19.8       |\n",
						"|13835      |Todd      |Logan    |21936     |KNITTED RABBIT DOLL                |5       |2.95      |United Kingdom|552309    |14.75      |\n",
						"|13835      |Todd      |Logan    |21936     |KNITTED RABBIT DOLL                |10      |2.95      |United Kingdom|559326    |29.5       |\n",
						"|13835      |Todd      |Logan    |22728     |ALARM CLOCK BAKELIKE PINK          |4       |3.75      |United Kingdom|571657    |15.0       |\n",
						"|13835      |Todd      |Logan    |23343     |MIRRORED WALL ART SNOWFLAKES       |10      |2.08      |United Kingdom|571657    |20.8       |\n",
						"|13835      |Todd      |Logan    |72807C    |SET/3 VANILLA SCENTED CANDLE IN BOX|4       |4.25      |United Kingdom|559326    |17.0       |\n",
						"|13835      |Todd      |Logan    |22384     |LUNCH BAG PINK POLKADOT            |10      |1.65      |United Kingdom|559326    |16.5       |\n",
						"|13835      |Todd      |Logan    |21080     |SET/6 RED SPOTTY PAPER CUPS        |12      |0.85      |United Kingdom|559326    |10.200001  |\n",
						"|13835      |Todd      |Logan    |21080     |SET/6 RED SPOTTY PAPER CUPS        |12      |0.85      |United Kingdom|552309    |10.200001  |\n",
						"+-----------+----------+---------+----------+-----------------------------------+--------+----------+--------------+----------+-----------+\n"
					]
				}
			],
			"source": [
				"# Using Spark SQL select data from the temprory view which is nothing but teh DataFrame that we created in the previous steps\n",
				"# Note that with Spark SQL, we are writing the ANSI SQL that we use in the traditional databases\n",
				"\n",
				"spark.sql(\"SELECT * FROM salesDF LIMIT 10\").show(truncate=False)"
			]
		},
		{
			"cell_type": "code",
			"execution_count": 25,
			"metadata": {
				"trusted": true,
				"vscode": {
					"languageId": "python_glue_session"
				}
			},
			"outputs": [
				{
					"name": "stdout",
					"output_type": "stream",
					"text": [
						"+-----------+----------+---------+----------+-----------------------------------+--------+----------+-------+----------+-----------+\n",
						"|customer_id|first_name|last_name|product_id|product_desc                       |quantity|unit_price|country|invoice_no|total_sales|\n",
						"+-----------+----------+---------+----------+-----------------------------------+--------+----------+-------+----------+-----------+\n",
						"|12462      |Valerie   |Hendricks|21078     |DECORATION  BUTTERFLY  MAGIC GARDEN|12      |0.85      |Spain  |543541    |10.200001  |\n",
						"|12462      |Valerie   |Hendricks|84817     |NUMBER TILE VINTAGE FONT 9         |-4      |2.1       |Spain  |C581148   |-8.4       |\n",
						"|12462      |Valerie   |Hendricks|84817     |NUMBER TILE VINTAGE FONT 9         |6       |2.1       |Spain  |577606    |12.599999  |\n",
						"|12462      |Valerie   |Hendricks|37450     |LOVE HEART POCKET WARMER           |6       |2.95      |Spain  |543541    |17.7       |\n",
						"|12462      |Valerie   |Hendricks|37450     |LOVE HEART POCKET WARMER           |-1      |2.95      |Spain  |C544397   |-2.95      |\n",
						"|12462      |Valerie   |Hendricks|22768     |FAMILY PHOTO FRAME CORNICE         |2       |9.95      |Spain  |577606    |19.9       |\n",
						"|12462      |Valerie   |Hendricks|84946     |SET OF 72 PINK HEART PAPER DOILIES |12      |1.25      |Spain  |543541    |15.0       |\n",
						"|12462      |Valerie   |Hendricks|21927     |LARGE CAKE STAND HANGING HEARTS    |12      |1.25      |Spain  |543541    |15.0       |\n",
						"|12462      |Valerie   |Hendricks|22890     |FOLKART HEART NAPKIN RINGS         |2       |9.95      |Spain  |577606    |19.9       |\n",
						"|12462      |Valerie   |Hendricks|22890     |FOLKART HEART NAPKIN RINGS         |2       |9.95      |Spain  |543541    |19.9       |\n",
						"+-----------+----------+---------+----------+-----------------------------------+--------+----------+-------+----------+-----------+\n"
					]
				}
			],
			"source": [
				"# Where clause to filter data that belongs to Spain\n",
				"\n",
				"spark.sql(\"SELECT * FROM salesDF WHERE country = 'Spain' LIMIT 10\").show(truncate=False)"
			]
		},
		{
			"cell_type": "code",
			"execution_count": null,
			"metadata": {
				"vscode": {
					"languageId": "python_glue_session"
				}
			},
			"outputs": [],
			"source": []
		},
		{
			"cell_type": "markdown",
			"metadata": {},
			"source": [
				"### Aggregation"
			]
		},
		{
			"cell_type": "code",
			"execution_count": 29,
			"metadata": {
				"trusted": true,
				"vscode": {
					"languageId": "python_glue_session"
				}
			},
			"outputs": [
				{
					"name": "stdout",
					"output_type": "stream",
					"text": [
						"+-----------+------------------+\n",
						"|customer_id|         sum_sales|\n",
						"+-----------+------------------+\n",
						"|      17850|1217571.9390883408|\n",
						"|      14646| 280549.8192884624|\n",
						"|      18102|256438.48995232582|\n",
						"|      17450|200736.01051712036|\n",
						"|      14911| 137108.4096262157|\n",
						"|      12415|123725.44990730286|\n",
						"|      17511|122776.22992050648|\n",
						"|      14156|121753.16940319538|\n",
						"|      15311| 85180.03940740228|\n",
						"|      16684| 65892.07912826538|\n",
						"|      13694| 63016.29979014397|\n",
						"|      13089| 57855.68000161648|\n",
						"|      14096|  57201.9700319469|\n",
						"|      15061|54228.739621818066|\n",
						"|      17949|52750.839977264404|\n",
						"|      15769|  51850.1201082468|\n",
						"|      16029| 50992.60983848572|\n",
						"|      14298| 50988.22000473738|\n",
						"|      14088| 50537.88961625099|\n",
						"|      17841|46063.909761846066|\n",
						"+-----------+------------------+\n",
						"only showing top 20 rows\n"
					]
				}
			],
			"source": [
				"# Spark provides powerful functions using which we can efficiently perform complex data analytics like aggregations, joins etc\n",
				"# With the DataFrame, we will perform data analysis by using aggregate function to see total sales by Customer, total sales by Customer by Product, total revenue by country.\n",
				"# We will use spark SQL to perform these aggregate functions\n",
				"\n",
				"#Total sales by Customer, alias aggregate column to a new name, order sum_sales descending with the highest sales on the top. Round sum_sales to 2 decimal places\n",
				"\n",
				"spark.sql(\"SELECT customer_id, round(sum(total_sales),2) as sum_sales FROM salesDF GROUP BY customer_id ORDER BY sum_sales DESC\").show(truncate=False)\n"
			]
		},
		{
			"cell_type": "code",
			"execution_count": 32,
			"metadata": {
				"trusted": true,
				"vscode": {
					"languageId": "python_glue_session"
				}
			},
			"outputs": [
				{
					"name": "stdout",
					"output_type": "stream",
					"text": [
						"+-----------+----------+---------+\n",
						"|customer_id|product_id|sum_sales|\n",
						"+-----------+----------+---------+\n",
						"|17850      |DOT       |167802.89|\n",
						"|15098      |22502     |39619.5  |\n",
						"|17850      |47566     |30151.46 |\n",
						"|17450      |85123A    |26507.68 |\n",
						"|17850      |22423     |23338.07 |\n",
						"|17850      |22355     |20109.58 |\n",
						"|17850      |22086     |18518.56 |\n",
						"|18102      |21623     |16592.08 |\n",
						"|16210      |21137     |16027.92 |\n",
						"|18102      |82484     |15351.0  |\n",
						"|17850      |23084     |15224.36 |\n",
						"|18102      |22189     |14089.9  |\n",
						"|15061      |22423     |14081.7  |\n",
						"|17450      |22470     |13427.64 |\n",
						"|17850      |22197     |13238.77 |\n",
						"|17850      |22114     |12834.78 |\n",
						"|14096      |DOT       |11906.36 |\n",
						"|17850      |20724     |10756.08 |\n",
						"|17450      |23243     |10566.73 |\n",
						"|17450      |22469     |10201.98 |\n",
						"+-----------+----------+---------+\n",
						"only showing top 20 rows\n"
					]
				}
			],
			"source": [
				"# Total sales by Customer by Product order by sum_sales with the highest sale on the top. Round sum_sales to 2 decimal places\n",
				"\n",
				"spark.sql(\"SELECT customer_id, product_id, round(sum(total_sales),2) as sum_sales FROM salesDF GROUP BY customer_id, product_id ORDER BY sum_sales DESC\").show(truncate=False)"
			]
		},
		{
			"cell_type": "code",
			"execution_count": 33,
			"metadata": {
				"trusted": true,
				"vscode": {
					"languageId": "python_glue_session"
				}
			},
			"outputs": [
				{
					"name": "stdout",
					"output_type": "stream",
					"text": [
						"+---------------+----------+\n",
						"|country        |sum_sales |\n",
						"+---------------+----------+\n",
						"|United Kingdom |8246600.42|\n",
						"|Netherlands    |285828.54 |\n",
						"|EIRE           |266116.74 |\n",
						"|Germany        |221675.73 |\n",
						"|France         |197535.65 |\n",
						"|Australia      |137094.97 |\n",
						"|Switzerland    |56550.95  |\n",
						"|Spain          |54926.23  |\n",
						"|Belgium        |40893.08  |\n",
						"|Sweden         |36595.91  |\n",
						"|Japan          |35340.62  |\n",
						"|Norway         |35163.46  |\n",
						"|Portugal       |29417.24  |\n",
						"|Finland        |22397.54  |\n",
						"|Channel Islands|20404.89  |\n",
						"|Denmark        |18768.14  |\n",
						"|Italy          |17015.46  |\n",
						"|Cyprus         |13332.69  |\n",
						"|Austria        |10154.32  |\n",
						"|Hong Kong      |10117.04  |\n",
						"+---------------+----------+\n",
						"only showing top 20 rows\n"
					]
				}
			],
			"source": [
				"# Total sales by Country\n",
				"\n",
				"spark.sql(\"SELECT country, round(sum(total_sales),2) as sum_sales FROM salesDF GROUP BY country ORDER BY sum_sales DESC\").show(truncate=False)"
			]
		},
		{
			"cell_type": "code",
			"execution_count": 35,
			"metadata": {
				"trusted": true,
				"vscode": {
					"languageId": "python_glue_session"
				}
			},
			"outputs": [
				{
					"name": "stdout",
					"output_type": "stream",
					"text": [
						"+-----------+----------+--------------+---------+\n",
						"|customer_id|product_id|country       |sum_sales|\n",
						"+-----------+----------+--------------+---------+\n",
						"|17850      |DOT       |United Kingdom|167802.89|\n",
						"|15098      |22502     |United Kingdom|39619.5  |\n",
						"|17850      |47566     |United Kingdom|30151.46 |\n",
						"|17450      |85123A    |United Kingdom|26507.68 |\n",
						"|17850      |22423     |United Kingdom|23338.07 |\n",
						"|17850      |22355     |United Kingdom|20109.58 |\n",
						"|17850      |22086     |United Kingdom|18518.56 |\n",
						"|18102      |21623     |United Kingdom|16592.08 |\n",
						"|16210      |21137     |United Kingdom|16027.92 |\n",
						"|18102      |82484     |United Kingdom|15351.0  |\n",
						"|17850      |23084     |United Kingdom|15224.36 |\n",
						"|18102      |22189     |United Kingdom|14089.9  |\n",
						"|15061      |22423     |United Kingdom|14081.7  |\n",
						"|17450      |22470     |United Kingdom|13427.64 |\n",
						"|17850      |22197     |United Kingdom|13238.77 |\n",
						"|17850      |22114     |United Kingdom|12834.78 |\n",
						"|14096      |DOT       |United Kingdom|11906.36 |\n",
						"|17850      |20724     |United Kingdom|10756.08 |\n",
						"|17450      |23243     |United Kingdom|10566.73 |\n",
						"|17450      |22469     |United Kingdom|10201.98 |\n",
						"+-----------+----------+--------------+---------+\n",
						"only showing top 20 rows\n"
					]
				}
			],
			"source": [
				"# Total sales by customer, Product, Country\n",
				"\n",
				"spark.sql(\"SELECT customer_id, product_id, country, round(sum(total_sales),2) as sum_sales FROM salesDF GROUP BY customer_id, product_id, country ORDER BY sum_sales DESC\").show(truncate=False)"
			]
		},
		{
			"cell_type": "markdown",
			"metadata": {},
			"source": [
				"#### You can play around with the multitude of powerful functions that the Spark SQL and DataFrame provides, have shown few examples so you can follow and understand the concept. \n",
				"#### The main focus of this Notebook is to demonstrate how to Read and Write from and to Redshift using Glue Notebook and perfom ETL on the DataFrame using Spark SQL"
			]
		},
		{
			"cell_type": "markdown",
			"metadata": {},
			"source": [
				"### Write data to Redshift"
			]
		},
		{
			"cell_type": "code",
			"execution_count": 42,
			"metadata": {
				"trusted": true,
				"vscode": {
					"languageId": "python_glue_session"
				}
			},
			"outputs": [
				{
					"name": "stdout",
					"output_type": "stream",
					"text": [
						"\n"
					]
				}
			],
			"source": [
				"# For simplicity and to write to Glue Data Catalog, we can convert the Spark DataFrame back to Glue DynamicFrame and write to either Redshift directly or to Catalog\n",
				"# Convert back to DynamicFrame\n",
				"from awsglue.dynamicframe import DynamicFrame\n",
				"\n",
				"derivedColDyF = DynamicFrame.fromDF(derivedColDF,glueContext, \"convert\")"
			]
		},
		{
			"cell_type": "code",
			"execution_count": 46,
			"metadata": {
				"trusted": true,
				"vscode": {
					"languageId": "python_glue_session"
				}
			},
			"outputs": [
				{
					"name": "stdout",
					"output_type": "stream",
					"text": [
						"\n"
					]
				}
			],
			"source": [
				"my_conn_options = {\n",
				"    \"dbtable\": \"sales_tgt\",\n",
				"    \"database\": \"retail\",\n",
				"    \"aws_iam_role\": \"<role-arn>\"\n",
				"}\n",
				"\n",
				"glueContext.write_dynamic_frame.from_jdbc_conf(\n",
				"    frame = derivedColDyF, \n",
				"    catalog_connection = \"Redshift-Direct\", \n",
				"    connection_options = my_conn_options, \n",
				"    redshift_tmp_dir = \"<path>\")"
			]
		},
		{
			"cell_type": "code",
			"execution_count": null,
			"metadata": {
				"vscode": {
					"languageId": "python_glue_session"
				}
			},
			"outputs": [],
			"source": []
		}
	],
	"metadata": {
		"kernelspec": {
			"display_name": "Glue PySpark",
			"language": "python",
			"name": "glue_pyspark"
		},
		"language_info": {
			"codemirror_mode": {
				"name": "python",
				"version": 3
			},
			"file_extension": ".py",
			"mimetype": "text/x-python",
			"name": "Python_Glue_Session",
			"pygments_lexer": "python3"
		}
	},
	"nbformat": 4,
	"nbformat_minor": 4
}
